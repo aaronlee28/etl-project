{
  "cells": [
    {
      "cell_type": "code",
      "source": [
        "import pandas as pd\n",
        "import datetime "
      ],
      "outputs": [],
      "execution_count": 1,
      "metadata": {}
    },
    {
      "cell_type": "code",
      "execution_count": 1,
      "metadata": {},
      "outputs": [
        {
          "output_type": "execute_result",
          "data": {
            "text/plain": [
              "   EventId  Type  Severity       StartTime(UTC)         EndTime(UTC)  \\\n",
              "0      W-1  Snow     Light  2016-01-06 23:14:00  2016-01-07 00:34:00   \n",
              "1      W-2  Snow     Light  2016-01-07 04:14:00  2016-01-07 04:54:00   \n",
              "2      W-3  Snow     Light  2016-01-07 05:54:00  2016-01-07 15:34:00   \n",
              "3      W-4  Snow     Light  2016-01-08 05:34:00  2016-01-08 05:54:00   \n",
              "4      W-5  Snow     Light  2016-01-08 13:54:00  2016-01-08 15:54:00   \n",
              "..     ...   ...       ...                  ...                  ...   \n",
              "95    W-96  Rain     Light  2016-04-16 01:55:00  2016-04-16 02:15:00   \n",
              "96    W-97  Rain     Light  2016-04-16 04:15:00  2016-04-16 05:15:00   \n",
              "97    W-98  Snow  Moderate  2016-04-16 05:15:00  2016-04-16 05:35:00   \n",
              "98    W-99  Rain     Light  2016-04-16 06:55:00  2016-04-16 07:15:00   \n",
              "99   W-100  Rain     Light  2016-04-16 09:15:00  2016-04-16 09:35:00   \n",
              "\n",
              "       TimeZone AirportCode  LocationLat  LocationLng      City    County  \\\n",
              "0   US/Mountain        K04V      38.0972    -106.1689  Saguache  Saguache   \n",
              "1   US/Mountain        K04V      38.0972    -106.1689  Saguache  Saguache   \n",
              "2   US/Mountain        K04V      38.0972    -106.1689  Saguache  Saguache   \n",
              "3   US/Mountain        K04V      38.0972    -106.1689  Saguache  Saguache   \n",
              "4   US/Mountain        K04V      38.0972    -106.1689  Saguache  Saguache   \n",
              "..          ...         ...          ...          ...       ...       ...   \n",
              "95  US/Mountain        K04V      38.0972    -106.1689  Saguache  Saguache   \n",
              "96  US/Mountain        K04V      38.0972    -106.1689  Saguache  Saguache   \n",
              "97  US/Mountain        K04V      38.0972    -106.1689  Saguache  Saguache   \n",
              "98  US/Mountain        K04V      38.0972    -106.1689  Saguache  Saguache   \n",
              "99  US/Mountain        K04V      38.0972    -106.1689  Saguache  Saguache   \n",
              "\n",
              "   State  ZipCode  \n",
              "0     CO  81149.0  \n",
              "1     CO  81149.0  \n",
              "2     CO  81149.0  \n",
              "3     CO  81149.0  \n",
              "4     CO  81149.0  \n",
              "..   ...      ...  \n",
              "95    CO  81149.0  \n",
              "96    CO  81149.0  \n",
              "97    CO  81149.0  \n",
              "98    CO  81149.0  \n",
              "99    CO  81149.0  \n",
              "\n",
              "[100 rows x 13 columns]"
            ],
            "text/html": "<div>\n<style scoped>\n    .dataframe tbody tr th:only-of-type {\n        vertical-align: middle;\n    }\n\n    .dataframe tbody tr th {\n        vertical-align: top;\n    }\n\n    .dataframe thead th {\n        text-align: right;\n    }\n</style>\n<table border=\"1\" class=\"dataframe\">\n  <thead>\n    <tr style=\"text-align: right;\">\n      <th></th>\n      <th>EventId</th>\n      <th>Type</th>\n      <th>Severity</th>\n      <th>StartTime(UTC)</th>\n      <th>EndTime(UTC)</th>\n      <th>TimeZone</th>\n      <th>AirportCode</th>\n      <th>LocationLat</th>\n      <th>LocationLng</th>\n      <th>City</th>\n      <th>County</th>\n      <th>State</th>\n      <th>ZipCode</th>\n    </tr>\n  </thead>\n  <tbody>\n    <tr>\n      <th>0</th>\n      <td>W-1</td>\n      <td>Snow</td>\n      <td>Light</td>\n      <td>2016-01-06 23:14:00</td>\n      <td>2016-01-07 00:34:00</td>\n      <td>US/Mountain</td>\n      <td>K04V</td>\n      <td>38.0972</td>\n      <td>-106.1689</td>\n      <td>Saguache</td>\n      <td>Saguache</td>\n      <td>CO</td>\n      <td>81149.0</td>\n    </tr>\n    <tr>\n      <th>1</th>\n      <td>W-2</td>\n      <td>Snow</td>\n      <td>Light</td>\n      <td>2016-01-07 04:14:00</td>\n      <td>2016-01-07 04:54:00</td>\n      <td>US/Mountain</td>\n      <td>K04V</td>\n      <td>38.0972</td>\n      <td>-106.1689</td>\n      <td>Saguache</td>\n      <td>Saguache</td>\n      <td>CO</td>\n      <td>81149.0</td>\n    </tr>\n    <tr>\n      <th>2</th>\n      <td>W-3</td>\n      <td>Snow</td>\n      <td>Light</td>\n      <td>2016-01-07 05:54:00</td>\n      <td>2016-01-07 15:34:00</td>\n      <td>US/Mountain</td>\n      <td>K04V</td>\n      <td>38.0972</td>\n      <td>-106.1689</td>\n      <td>Saguache</td>\n      <td>Saguache</td>\n      <td>CO</td>\n      <td>81149.0</td>\n    </tr>\n    <tr>\n      <th>3</th>\n      <td>W-4</td>\n      <td>Snow</td>\n      <td>Light</td>\n      <td>2016-01-08 05:34:00</td>\n      <td>2016-01-08 05:54:00</td>\n      <td>US/Mountain</td>\n      <td>K04V</td>\n      <td>38.0972</td>\n      <td>-106.1689</td>\n      <td>Saguache</td>\n      <td>Saguache</td>\n      <td>CO</td>\n      <td>81149.0</td>\n    </tr>\n    <tr>\n      <th>4</th>\n      <td>W-5</td>\n      <td>Snow</td>\n      <td>Light</td>\n      <td>2016-01-08 13:54:00</td>\n      <td>2016-01-08 15:54:00</td>\n      <td>US/Mountain</td>\n      <td>K04V</td>\n      <td>38.0972</td>\n      <td>-106.1689</td>\n      <td>Saguache</td>\n      <td>Saguache</td>\n      <td>CO</td>\n      <td>81149.0</td>\n    </tr>\n    <tr>\n      <th>...</th>\n      <td>...</td>\n      <td>...</td>\n      <td>...</td>\n      <td>...</td>\n      <td>...</td>\n      <td>...</td>\n      <td>...</td>\n      <td>...</td>\n      <td>...</td>\n      <td>...</td>\n      <td>...</td>\n      <td>...</td>\n      <td>...</td>\n    </tr>\n    <tr>\n      <th>95</th>\n      <td>W-96</td>\n      <td>Rain</td>\n      <td>Light</td>\n      <td>2016-04-16 01:55:00</td>\n      <td>2016-04-16 02:15:00</td>\n      <td>US/Mountain</td>\n      <td>K04V</td>\n      <td>38.0972</td>\n      <td>-106.1689</td>\n      <td>Saguache</td>\n      <td>Saguache</td>\n      <td>CO</td>\n      <td>81149.0</td>\n    </tr>\n    <tr>\n      <th>96</th>\n      <td>W-97</td>\n      <td>Rain</td>\n      <td>Light</td>\n      <td>2016-04-16 04:15:00</td>\n      <td>2016-04-16 05:15:00</td>\n      <td>US/Mountain</td>\n      <td>K04V</td>\n      <td>38.0972</td>\n      <td>-106.1689</td>\n      <td>Saguache</td>\n      <td>Saguache</td>\n      <td>CO</td>\n      <td>81149.0</td>\n    </tr>\n    <tr>\n      <th>97</th>\n      <td>W-98</td>\n      <td>Snow</td>\n      <td>Moderate</td>\n      <td>2016-04-16 05:15:00</td>\n      <td>2016-04-16 05:35:00</td>\n      <td>US/Mountain</td>\n      <td>K04V</td>\n      <td>38.0972</td>\n      <td>-106.1689</td>\n      <td>Saguache</td>\n      <td>Saguache</td>\n      <td>CO</td>\n      <td>81149.0</td>\n    </tr>\n    <tr>\n      <th>98</th>\n      <td>W-99</td>\n      <td>Rain</td>\n      <td>Light</td>\n      <td>2016-04-16 06:55:00</td>\n      <td>2016-04-16 07:15:00</td>\n      <td>US/Mountain</td>\n      <td>K04V</td>\n      <td>38.0972</td>\n      <td>-106.1689</td>\n      <td>Saguache</td>\n      <td>Saguache</td>\n      <td>CO</td>\n      <td>81149.0</td>\n    </tr>\n    <tr>\n      <th>99</th>\n      <td>W-100</td>\n      <td>Rain</td>\n      <td>Light</td>\n      <td>2016-04-16 09:15:00</td>\n      <td>2016-04-16 09:35:00</td>\n      <td>US/Mountain</td>\n      <td>K04V</td>\n      <td>38.0972</td>\n      <td>-106.1689</td>\n      <td>Saguache</td>\n      <td>Saguache</td>\n      <td>CO</td>\n      <td>81149.0</td>\n    </tr>\n  </tbody>\n</table>\n<p>100 rows × 13 columns</p>\n</div>"
          },
          "metadata": {},
          "execution_count": 1
        }
      ],
      "source": [
        "csv_path = 'resources/us_weather.csv'\n",
        "weather_df = pd.read_csv(csv_path)\n",
        "weather_df.head(100)"
      ]
    },
    {
      "cell_type": "code",
      "execution_count": 3,
      "metadata": {},
      "outputs": [
        {
          "output_type": "execute_result",
          "data": {
            "text/plain": [
              "           EventId  Type  Severity       StartTime(UTC)         EndTime(UTC)  \\\n",
              "1721        W-1722  Snow     Light  2020-01-01 19:30:00  2020-01-01 22:12:00   \n",
              "1722        W-1723  Snow     Light  2020-01-02 00:32:00  2020-01-02 00:50:00   \n",
              "1723        W-1724  Snow     Light  2020-01-02 01:12:00  2020-01-02 01:30:00   \n",
              "1724        W-1725  Snow     Light  2020-01-02 04:12:00  2020-01-02 04:30:00   \n",
              "1725        W-1726  Snow     Light  2020-01-02 05:30:00  2020-01-02 06:12:00   \n",
              "...            ...   ...       ...                  ...                  ...   \n",
              "6274201  W-6276144  Snow     Light  2020-12-14 17:30:00  2020-12-15 01:53:00   \n",
              "6274202  W-6276145  Snow  Moderate  2020-12-15 01:53:00  2020-12-15 03:19:00   \n",
              "6274203  W-6276146  Snow     Light  2020-12-15 03:19:00  2020-12-15 05:53:00   \n",
              "6274204  W-6276147  Snow     Light  2020-12-23 04:24:00  2020-12-23 05:53:00   \n",
              "6274205  W-6276148  Snow     Light  2020-12-23 10:53:00  2020-12-23 11:26:00   \n",
              "\n",
              "            TimeZone AirportCode  LocationLat  LocationLng      City  \\\n",
              "1721     US/Mountain        K04V      38.0972    -106.1689  Saguache   \n",
              "1722     US/Mountain        K04V      38.0972    -106.1689  Saguache   \n",
              "1723     US/Mountain        K04V      38.0972    -106.1689  Saguache   \n",
              "1724     US/Mountain        K04V      38.0972    -106.1689  Saguache   \n",
              "1725     US/Mountain        K04V      38.0972    -106.1689  Saguache   \n",
              "...              ...         ...          ...          ...       ...   \n",
              "6274201  US/Mountain        KBVR      42.5833    -108.2833    Lander   \n",
              "6274202  US/Mountain        KBVR      42.5833    -108.2833    Lander   \n",
              "6274203  US/Mountain        KBVR      42.5833    -108.2833    Lander   \n",
              "6274204  US/Mountain        KBVR      42.5833    -108.2833    Lander   \n",
              "6274205  US/Mountain        KBVR      42.5833    -108.2833    Lander   \n",
              "\n",
              "           County State  ZipCode  \n",
              "1721     Saguache    CO  81149.0  \n",
              "1722     Saguache    CO  81149.0  \n",
              "1723     Saguache    CO  81149.0  \n",
              "1724     Saguache    CO  81149.0  \n",
              "1725     Saguache    CO  81149.0  \n",
              "...           ...   ...      ...  \n",
              "6274201   Fremont    WY  82520.0  \n",
              "6274202   Fremont    WY  82520.0  \n",
              "6274203   Fremont    WY  82520.0  \n",
              "6274204   Fremont    WY  82520.0  \n",
              "6274205   Fremont    WY  82520.0  \n",
              "\n",
              "[1214221 rows x 13 columns]"
            ],
            "text/html": "<div>\n<style scoped>\n    .dataframe tbody tr th:only-of-type {\n        vertical-align: middle;\n    }\n\n    .dataframe tbody tr th {\n        vertical-align: top;\n    }\n\n    .dataframe thead th {\n        text-align: right;\n    }\n</style>\n<table border=\"1\" class=\"dataframe\">\n  <thead>\n    <tr style=\"text-align: right;\">\n      <th></th>\n      <th>EventId</th>\n      <th>Type</th>\n      <th>Severity</th>\n      <th>StartTime(UTC)</th>\n      <th>EndTime(UTC)</th>\n      <th>TimeZone</th>\n      <th>AirportCode</th>\n      <th>LocationLat</th>\n      <th>LocationLng</th>\n      <th>City</th>\n      <th>County</th>\n      <th>State</th>\n      <th>ZipCode</th>\n    </tr>\n  </thead>\n  <tbody>\n    <tr>\n      <th>1721</th>\n      <td>W-1722</td>\n      <td>Snow</td>\n      <td>Light</td>\n      <td>2020-01-01 19:30:00</td>\n      <td>2020-01-01 22:12:00</td>\n      <td>US/Mountain</td>\n      <td>K04V</td>\n      <td>38.0972</td>\n      <td>-106.1689</td>\n      <td>Saguache</td>\n      <td>Saguache</td>\n      <td>CO</td>\n      <td>81149.0</td>\n    </tr>\n    <tr>\n      <th>1722</th>\n      <td>W-1723</td>\n      <td>Snow</td>\n      <td>Light</td>\n      <td>2020-01-02 00:32:00</td>\n      <td>2020-01-02 00:50:00</td>\n      <td>US/Mountain</td>\n      <td>K04V</td>\n      <td>38.0972</td>\n      <td>-106.1689</td>\n      <td>Saguache</td>\n      <td>Saguache</td>\n      <td>CO</td>\n      <td>81149.0</td>\n    </tr>\n    <tr>\n      <th>1723</th>\n      <td>W-1724</td>\n      <td>Snow</td>\n      <td>Light</td>\n      <td>2020-01-02 01:12:00</td>\n      <td>2020-01-02 01:30:00</td>\n      <td>US/Mountain</td>\n      <td>K04V</td>\n      <td>38.0972</td>\n      <td>-106.1689</td>\n      <td>Saguache</td>\n      <td>Saguache</td>\n      <td>CO</td>\n      <td>81149.0</td>\n    </tr>\n    <tr>\n      <th>1724</th>\n      <td>W-1725</td>\n      <td>Snow</td>\n      <td>Light</td>\n      <td>2020-01-02 04:12:00</td>\n      <td>2020-01-02 04:30:00</td>\n      <td>US/Mountain</td>\n      <td>K04V</td>\n      <td>38.0972</td>\n      <td>-106.1689</td>\n      <td>Saguache</td>\n      <td>Saguache</td>\n      <td>CO</td>\n      <td>81149.0</td>\n    </tr>\n    <tr>\n      <th>1725</th>\n      <td>W-1726</td>\n      <td>Snow</td>\n      <td>Light</td>\n      <td>2020-01-02 05:30:00</td>\n      <td>2020-01-02 06:12:00</td>\n      <td>US/Mountain</td>\n      <td>K04V</td>\n      <td>38.0972</td>\n      <td>-106.1689</td>\n      <td>Saguache</td>\n      <td>Saguache</td>\n      <td>CO</td>\n      <td>81149.0</td>\n    </tr>\n    <tr>\n      <th>...</th>\n      <td>...</td>\n      <td>...</td>\n      <td>...</td>\n      <td>...</td>\n      <td>...</td>\n      <td>...</td>\n      <td>...</td>\n      <td>...</td>\n      <td>...</td>\n      <td>...</td>\n      <td>...</td>\n      <td>...</td>\n      <td>...</td>\n    </tr>\n    <tr>\n      <th>6274201</th>\n      <td>W-6276144</td>\n      <td>Snow</td>\n      <td>Light</td>\n      <td>2020-12-14 17:30:00</td>\n      <td>2020-12-15 01:53:00</td>\n      <td>US/Mountain</td>\n      <td>KBVR</td>\n      <td>42.5833</td>\n      <td>-108.2833</td>\n      <td>Lander</td>\n      <td>Fremont</td>\n      <td>WY</td>\n      <td>82520.0</td>\n    </tr>\n    <tr>\n      <th>6274202</th>\n      <td>W-6276145</td>\n      <td>Snow</td>\n      <td>Moderate</td>\n      <td>2020-12-15 01:53:00</td>\n      <td>2020-12-15 03:19:00</td>\n      <td>US/Mountain</td>\n      <td>KBVR</td>\n      <td>42.5833</td>\n      <td>-108.2833</td>\n      <td>Lander</td>\n      <td>Fremont</td>\n      <td>WY</td>\n      <td>82520.0</td>\n    </tr>\n    <tr>\n      <th>6274203</th>\n      <td>W-6276146</td>\n      <td>Snow</td>\n      <td>Light</td>\n      <td>2020-12-15 03:19:00</td>\n      <td>2020-12-15 05:53:00</td>\n      <td>US/Mountain</td>\n      <td>KBVR</td>\n      <td>42.5833</td>\n      <td>-108.2833</td>\n      <td>Lander</td>\n      <td>Fremont</td>\n      <td>WY</td>\n      <td>82520.0</td>\n    </tr>\n    <tr>\n      <th>6274204</th>\n      <td>W-6276147</td>\n      <td>Snow</td>\n      <td>Light</td>\n      <td>2020-12-23 04:24:00</td>\n      <td>2020-12-23 05:53:00</td>\n      <td>US/Mountain</td>\n      <td>KBVR</td>\n      <td>42.5833</td>\n      <td>-108.2833</td>\n      <td>Lander</td>\n      <td>Fremont</td>\n      <td>WY</td>\n      <td>82520.0</td>\n    </tr>\n    <tr>\n      <th>6274205</th>\n      <td>W-6276148</td>\n      <td>Snow</td>\n      <td>Light</td>\n      <td>2020-12-23 10:53:00</td>\n      <td>2020-12-23 11:26:00</td>\n      <td>US/Mountain</td>\n      <td>KBVR</td>\n      <td>42.5833</td>\n      <td>-108.2833</td>\n      <td>Lander</td>\n      <td>Fremont</td>\n      <td>WY</td>\n      <td>82520.0</td>\n    </tr>\n  </tbody>\n</table>\n<p>1214221 rows × 13 columns</p>\n</div>"
          },
          "metadata": {},
          "execution_count": 3
        }
      ],
      "source": [
        "clean_df = weather_df[weather_df['StartTime(UTC)'].str.match('2020-')]\n",
        "clean_df"
      ]
    },
    {
      "cell_type": "code",
      "execution_count": 4,
      "metadata": {},
      "outputs": [
        {
          "output_type": "execute_result",
          "data": {
            "text/plain": [
              "EventId            object\n",
              "Type               object\n",
              "Severity           object\n",
              "StartTime(UTC)     object\n",
              "EndTime(UTC)       object\n",
              "TimeZone           object\n",
              "AirportCode        object\n",
              "LocationLat       float64\n",
              "LocationLng       float64\n",
              "City               object\n",
              "County             object\n",
              "State              object\n",
              "ZipCode           float64\n",
              "dtype: object"
            ]
          },
          "metadata": {},
          "execution_count": 4
        }
      ],
      "source": [
        "clean_df.dtypes"
      ]
    },
    {
      "cell_type": "code",
      "execution_count": 6,
      "metadata": {},
      "outputs": [
        {
          "output_type": "execute_result",
          "data": {
            "text/plain": [
              "           EventId  Type  Severity       StartTime(UTC)         EndTime(UTC)  \\\n",
              "1721        W-1722  Snow     Light  2020-01-01 19:30:00  2020-01-01 22:12:00   \n",
              "1722        W-1723  Snow     Light  2020-01-02 00:32:00  2020-01-02 00:50:00   \n",
              "1723        W-1724  Snow     Light  2020-01-02 01:12:00  2020-01-02 01:30:00   \n",
              "1724        W-1725  Snow     Light  2020-01-02 04:12:00  2020-01-02 04:30:00   \n",
              "1725        W-1726  Snow     Light  2020-01-02 05:30:00  2020-01-02 06:12:00   \n",
              "...            ...   ...       ...                  ...                  ...   \n",
              "6274201  W-6276144  Snow     Light  2020-12-14 17:30:00  2020-12-15 01:53:00   \n",
              "6274202  W-6276145  Snow  Moderate  2020-12-15 01:53:00  2020-12-15 03:19:00   \n",
              "6274203  W-6276146  Snow     Light  2020-12-15 03:19:00  2020-12-15 05:53:00   \n",
              "6274204  W-6276147  Snow     Light  2020-12-23 04:24:00  2020-12-23 05:53:00   \n",
              "6274205  W-6276148  Snow     Light  2020-12-23 10:53:00  2020-12-23 11:26:00   \n",
              "\n",
              "            TimeZone AirportCode      City State  \n",
              "1721     US/Mountain        K04V  Saguache    CO  \n",
              "1722     US/Mountain        K04V  Saguache    CO  \n",
              "1723     US/Mountain        K04V  Saguache    CO  \n",
              "1724     US/Mountain        K04V  Saguache    CO  \n",
              "1725     US/Mountain        K04V  Saguache    CO  \n",
              "...              ...         ...       ...   ...  \n",
              "6274201  US/Mountain        KBVR    Lander    WY  \n",
              "6274202  US/Mountain        KBVR    Lander    WY  \n",
              "6274203  US/Mountain        KBVR    Lander    WY  \n",
              "6274204  US/Mountain        KBVR    Lander    WY  \n",
              "6274205  US/Mountain        KBVR    Lander    WY  \n",
              "\n",
              "[1214221 rows x 9 columns]"
            ],
            "text/html": "<div>\n<style scoped>\n    .dataframe tbody tr th:only-of-type {\n        vertical-align: middle;\n    }\n\n    .dataframe tbody tr th {\n        vertical-align: top;\n    }\n\n    .dataframe thead th {\n        text-align: right;\n    }\n</style>\n<table border=\"1\" class=\"dataframe\">\n  <thead>\n    <tr style=\"text-align: right;\">\n      <th></th>\n      <th>EventId</th>\n      <th>Type</th>\n      <th>Severity</th>\n      <th>StartTime(UTC)</th>\n      <th>EndTime(UTC)</th>\n      <th>TimeZone</th>\n      <th>AirportCode</th>\n      <th>City</th>\n      <th>State</th>\n    </tr>\n  </thead>\n  <tbody>\n    <tr>\n      <th>1721</th>\n      <td>W-1722</td>\n      <td>Snow</td>\n      <td>Light</td>\n      <td>2020-01-01 19:30:00</td>\n      <td>2020-01-01 22:12:00</td>\n      <td>US/Mountain</td>\n      <td>K04V</td>\n      <td>Saguache</td>\n      <td>CO</td>\n    </tr>\n    <tr>\n      <th>1722</th>\n      <td>W-1723</td>\n      <td>Snow</td>\n      <td>Light</td>\n      <td>2020-01-02 00:32:00</td>\n      <td>2020-01-02 00:50:00</td>\n      <td>US/Mountain</td>\n      <td>K04V</td>\n      <td>Saguache</td>\n      <td>CO</td>\n    </tr>\n    <tr>\n      <th>1723</th>\n      <td>W-1724</td>\n      <td>Snow</td>\n      <td>Light</td>\n      <td>2020-01-02 01:12:00</td>\n      <td>2020-01-02 01:30:00</td>\n      <td>US/Mountain</td>\n      <td>K04V</td>\n      <td>Saguache</td>\n      <td>CO</td>\n    </tr>\n    <tr>\n      <th>1724</th>\n      <td>W-1725</td>\n      <td>Snow</td>\n      <td>Light</td>\n      <td>2020-01-02 04:12:00</td>\n      <td>2020-01-02 04:30:00</td>\n      <td>US/Mountain</td>\n      <td>K04V</td>\n      <td>Saguache</td>\n      <td>CO</td>\n    </tr>\n    <tr>\n      <th>1725</th>\n      <td>W-1726</td>\n      <td>Snow</td>\n      <td>Light</td>\n      <td>2020-01-02 05:30:00</td>\n      <td>2020-01-02 06:12:00</td>\n      <td>US/Mountain</td>\n      <td>K04V</td>\n      <td>Saguache</td>\n      <td>CO</td>\n    </tr>\n    <tr>\n      <th>...</th>\n      <td>...</td>\n      <td>...</td>\n      <td>...</td>\n      <td>...</td>\n      <td>...</td>\n      <td>...</td>\n      <td>...</td>\n      <td>...</td>\n      <td>...</td>\n    </tr>\n    <tr>\n      <th>6274201</th>\n      <td>W-6276144</td>\n      <td>Snow</td>\n      <td>Light</td>\n      <td>2020-12-14 17:30:00</td>\n      <td>2020-12-15 01:53:00</td>\n      <td>US/Mountain</td>\n      <td>KBVR</td>\n      <td>Lander</td>\n      <td>WY</td>\n    </tr>\n    <tr>\n      <th>6274202</th>\n      <td>W-6276145</td>\n      <td>Snow</td>\n      <td>Moderate</td>\n      <td>2020-12-15 01:53:00</td>\n      <td>2020-12-15 03:19:00</td>\n      <td>US/Mountain</td>\n      <td>KBVR</td>\n      <td>Lander</td>\n      <td>WY</td>\n    </tr>\n    <tr>\n      <th>6274203</th>\n      <td>W-6276146</td>\n      <td>Snow</td>\n      <td>Light</td>\n      <td>2020-12-15 03:19:00</td>\n      <td>2020-12-15 05:53:00</td>\n      <td>US/Mountain</td>\n      <td>KBVR</td>\n      <td>Lander</td>\n      <td>WY</td>\n    </tr>\n    <tr>\n      <th>6274204</th>\n      <td>W-6276147</td>\n      <td>Snow</td>\n      <td>Light</td>\n      <td>2020-12-23 04:24:00</td>\n      <td>2020-12-23 05:53:00</td>\n      <td>US/Mountain</td>\n      <td>KBVR</td>\n      <td>Lander</td>\n      <td>WY</td>\n    </tr>\n    <tr>\n      <th>6274205</th>\n      <td>W-6276148</td>\n      <td>Snow</td>\n      <td>Light</td>\n      <td>2020-12-23 10:53:00</td>\n      <td>2020-12-23 11:26:00</td>\n      <td>US/Mountain</td>\n      <td>KBVR</td>\n      <td>Lander</td>\n      <td>WY</td>\n    </tr>\n  </tbody>\n</table>\n<p>1214221 rows × 9 columns</p>\n</div>"
          },
          "metadata": {},
          "execution_count": 6
        }
      ],
      "source": [
        "cleaner_df = clean_df.drop(columns=['LocationLat','LocationLng','County','ZipCode'])\n",
        "cleaner_df"
      ]
    },
    {
      "cell_type": "code",
      "execution_count": 10,
      "metadata": {},
      "outputs": [],
      "source": [
        "cleaner_df = cleaner_df.rename(columns = {'Accident_Severity': 'Weather_Severity'})"
      ]
    },
    {
      "cell_type": "code",
      "execution_count": 11,
      "metadata": {},
      "outputs": [
        {
          "output_type": "execute_result",
          "data": {
            "text/plain": [
              "           EventId  Type Weather_Severity       StartTime(UTC)  \\\n",
              "1721        W-1722  Snow            Light  2020-01-01 19:30:00   \n",
              "1722        W-1723  Snow            Light  2020-01-02 00:32:00   \n",
              "1723        W-1724  Snow            Light  2020-01-02 01:12:00   \n",
              "1724        W-1725  Snow            Light  2020-01-02 04:12:00   \n",
              "1725        W-1726  Snow            Light  2020-01-02 05:30:00   \n",
              "...            ...   ...              ...                  ...   \n",
              "6274201  W-6276144  Snow            Light  2020-12-14 17:30:00   \n",
              "6274202  W-6276145  Snow         Moderate  2020-12-15 01:53:00   \n",
              "6274203  W-6276146  Snow            Light  2020-12-15 03:19:00   \n",
              "6274204  W-6276147  Snow            Light  2020-12-23 04:24:00   \n",
              "6274205  W-6276148  Snow            Light  2020-12-23 10:53:00   \n",
              "\n",
              "                EndTime(UTC)     TimeZone AirportCode      City State  \n",
              "1721     2020-01-01 22:12:00  US/Mountain        K04V  Saguache    CO  \n",
              "1722     2020-01-02 00:50:00  US/Mountain        K04V  Saguache    CO  \n",
              "1723     2020-01-02 01:30:00  US/Mountain        K04V  Saguache    CO  \n",
              "1724     2020-01-02 04:30:00  US/Mountain        K04V  Saguache    CO  \n",
              "1725     2020-01-02 06:12:00  US/Mountain        K04V  Saguache    CO  \n",
              "...                      ...          ...         ...       ...   ...  \n",
              "6274201  2020-12-15 01:53:00  US/Mountain        KBVR    Lander    WY  \n",
              "6274202  2020-12-15 03:19:00  US/Mountain        KBVR    Lander    WY  \n",
              "6274203  2020-12-15 05:53:00  US/Mountain        KBVR    Lander    WY  \n",
              "6274204  2020-12-23 05:53:00  US/Mountain        KBVR    Lander    WY  \n",
              "6274205  2020-12-23 11:26:00  US/Mountain        KBVR    Lander    WY  \n",
              "\n",
              "[1214221 rows x 9 columns]"
            ],
            "text/html": "<div>\n<style scoped>\n    .dataframe tbody tr th:only-of-type {\n        vertical-align: middle;\n    }\n\n    .dataframe tbody tr th {\n        vertical-align: top;\n    }\n\n    .dataframe thead th {\n        text-align: right;\n    }\n</style>\n<table border=\"1\" class=\"dataframe\">\n  <thead>\n    <tr style=\"text-align: right;\">\n      <th></th>\n      <th>EventId</th>\n      <th>Type</th>\n      <th>Weather_Severity</th>\n      <th>StartTime(UTC)</th>\n      <th>EndTime(UTC)</th>\n      <th>TimeZone</th>\n      <th>AirportCode</th>\n      <th>City</th>\n      <th>State</th>\n    </tr>\n  </thead>\n  <tbody>\n    <tr>\n      <th>1721</th>\n      <td>W-1722</td>\n      <td>Snow</td>\n      <td>Light</td>\n      <td>2020-01-01 19:30:00</td>\n      <td>2020-01-01 22:12:00</td>\n      <td>US/Mountain</td>\n      <td>K04V</td>\n      <td>Saguache</td>\n      <td>CO</td>\n    </tr>\n    <tr>\n      <th>1722</th>\n      <td>W-1723</td>\n      <td>Snow</td>\n      <td>Light</td>\n      <td>2020-01-02 00:32:00</td>\n      <td>2020-01-02 00:50:00</td>\n      <td>US/Mountain</td>\n      <td>K04V</td>\n      <td>Saguache</td>\n      <td>CO</td>\n    </tr>\n    <tr>\n      <th>1723</th>\n      <td>W-1724</td>\n      <td>Snow</td>\n      <td>Light</td>\n      <td>2020-01-02 01:12:00</td>\n      <td>2020-01-02 01:30:00</td>\n      <td>US/Mountain</td>\n      <td>K04V</td>\n      <td>Saguache</td>\n      <td>CO</td>\n    </tr>\n    <tr>\n      <th>1724</th>\n      <td>W-1725</td>\n      <td>Snow</td>\n      <td>Light</td>\n      <td>2020-01-02 04:12:00</td>\n      <td>2020-01-02 04:30:00</td>\n      <td>US/Mountain</td>\n      <td>K04V</td>\n      <td>Saguache</td>\n      <td>CO</td>\n    </tr>\n    <tr>\n      <th>1725</th>\n      <td>W-1726</td>\n      <td>Snow</td>\n      <td>Light</td>\n      <td>2020-01-02 05:30:00</td>\n      <td>2020-01-02 06:12:00</td>\n      <td>US/Mountain</td>\n      <td>K04V</td>\n      <td>Saguache</td>\n      <td>CO</td>\n    </tr>\n    <tr>\n      <th>...</th>\n      <td>...</td>\n      <td>...</td>\n      <td>...</td>\n      <td>...</td>\n      <td>...</td>\n      <td>...</td>\n      <td>...</td>\n      <td>...</td>\n      <td>...</td>\n    </tr>\n    <tr>\n      <th>6274201</th>\n      <td>W-6276144</td>\n      <td>Snow</td>\n      <td>Light</td>\n      <td>2020-12-14 17:30:00</td>\n      <td>2020-12-15 01:53:00</td>\n      <td>US/Mountain</td>\n      <td>KBVR</td>\n      <td>Lander</td>\n      <td>WY</td>\n    </tr>\n    <tr>\n      <th>6274202</th>\n      <td>W-6276145</td>\n      <td>Snow</td>\n      <td>Moderate</td>\n      <td>2020-12-15 01:53:00</td>\n      <td>2020-12-15 03:19:00</td>\n      <td>US/Mountain</td>\n      <td>KBVR</td>\n      <td>Lander</td>\n      <td>WY</td>\n    </tr>\n    <tr>\n      <th>6274203</th>\n      <td>W-6276146</td>\n      <td>Snow</td>\n      <td>Light</td>\n      <td>2020-12-15 03:19:00</td>\n      <td>2020-12-15 05:53:00</td>\n      <td>US/Mountain</td>\n      <td>KBVR</td>\n      <td>Lander</td>\n      <td>WY</td>\n    </tr>\n    <tr>\n      <th>6274204</th>\n      <td>W-6276147</td>\n      <td>Snow</td>\n      <td>Light</td>\n      <td>2020-12-23 04:24:00</td>\n      <td>2020-12-23 05:53:00</td>\n      <td>US/Mountain</td>\n      <td>KBVR</td>\n      <td>Lander</td>\n      <td>WY</td>\n    </tr>\n    <tr>\n      <th>6274205</th>\n      <td>W-6276148</td>\n      <td>Snow</td>\n      <td>Light</td>\n      <td>2020-12-23 10:53:00</td>\n      <td>2020-12-23 11:26:00</td>\n      <td>US/Mountain</td>\n      <td>KBVR</td>\n      <td>Lander</td>\n      <td>WY</td>\n    </tr>\n  </tbody>\n</table>\n<p>1214221 rows × 9 columns</p>\n</div>"
          },
          "metadata": {},
          "execution_count": 11
        }
      ],
      "source": [
        "cleaner_df"
      ]
    },
    {
      "cell_type": "code",
      "execution_count": 12,
      "metadata": {},
      "outputs": [],
      "source": [
        "cleaner_df = cleaner_df.rename(columns = {'StartTime(UTC)': 'Weather_Start_Time(UTC)', 'EndTime(UTC)\t': 'Weather_End_Time(UTC'})"
      ]
    },
    {
      "cell_type": "code",
      "execution_count": 14,
      "metadata": {},
      "outputs": [],
      "source": [
        "cleaner_df.to_csv('resources/clean_us_weather')"
      ]
    },
    {
      "cell_type": "code",
      "execution_count": null,
      "metadata": {},
      "outputs": [],
      "source": []
    }
  ],
  "metadata": {
    "kernelspec": {
      "name": "python3",
      "display_name": "Python 3.6.10 64-bit ('PythonData': conda)",
      "metadata": {
        "interpreter": {
          "hash": "9093931be169533ad0f0dd76f55650949bcb45b2ed14d0b34b011d6ae005ebd8"
        }
      }
    },
    "language_info": {
      "codemirror_mode": {
        "name": "ipython",
        "version": 3
      },
      "file_extension": ".py",
      "mimetype": "text/x-python",
      "name": "python",
      "nbconvert_exporter": "python",
      "pygments_lexer": "ipython3",
      "version": "3.6.10-final"
    },
    "nteract": {
      "version": "0.12.3"
    }
  },
  "nbformat": 4,
  "nbformat_minor": 2
}