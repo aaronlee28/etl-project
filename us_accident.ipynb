{
  "cells": [
    {
      "cell_type": "code",
      "source": [
        "import pandas as pd\n"
      ],
      "outputs": [],
      "execution_count": 2,
      "metadata": {}
    },
    {
      "cell_type": "code",
      "execution_count": 1,
      "metadata": {},
      "outputs": [
        {
          "output_type": "execute_result",
          "data": {
            "text/plain": [
              "       ID    Source    TMC  Severity           Start_Time  \\\n",
              "0     A-1  MapQuest  201.0         3  2016-02-08 05:46:00   \n",
              "1     A-2  MapQuest  201.0         2  2016-02-08 06:07:59   \n",
              "2     A-3  MapQuest  201.0         2  2016-02-08 06:49:27   \n",
              "3     A-4  MapQuest  201.0         3  2016-02-08 07:23:34   \n",
              "4     A-5  MapQuest  201.0         2  2016-02-08 07:39:07   \n",
              "..    ...       ...    ...       ...                  ...   \n",
              "95   A-96  MapQuest  201.0         2  2016-02-11 07:28:16   \n",
              "96   A-97  MapQuest  201.0         3  2016-02-11 07:29:06   \n",
              "97   A-98  MapQuest  201.0         2  2016-02-11 07:53:55   \n",
              "98   A-99  MapQuest  201.0         2  2016-02-11 08:07:02   \n",
              "99  A-100  MapQuest  201.0         2  2016-02-11 08:13:24   \n",
              "\n",
              "               End_Time  Start_Lat  Start_Lng  End_Lat  End_Lng  ...  \\\n",
              "0   2016-02-08 11:00:00  39.865147 -84.058723      NaN      NaN  ...   \n",
              "1   2016-02-08 06:37:59  39.928059 -82.831184      NaN      NaN  ...   \n",
              "2   2016-02-08 07:19:27  39.063148 -84.032608      NaN      NaN  ...   \n",
              "3   2016-02-08 07:53:34  39.747753 -84.205582      NaN      NaN  ...   \n",
              "4   2016-02-08 08:09:07  39.627781 -84.188354      NaN      NaN  ...   \n",
              "..                  ...        ...        ...      ...      ...  ...   \n",
              "95  2016-02-11 07:58:16  39.994061 -82.729416      NaN      NaN  ...   \n",
              "96  2016-02-11 08:18:10  41.355396 -81.819267      NaN      NaN  ...   \n",
              "97  2016-02-11 08:23:55  39.687389 -84.237968      NaN      NaN  ...   \n",
              "98  2016-02-11 08:37:02  39.751038 -84.214325      NaN      NaN  ...   \n",
              "99  2016-02-11 08:43:24  39.749916 -84.139359      NaN      NaN  ...   \n",
              "\n",
              "    Roundabout Station   Stop Traffic_Calming Traffic_Signal Turning_Loop  \\\n",
              "0        False   False  False           False          False        False   \n",
              "1        False   False  False           False          False        False   \n",
              "2        False   False  False           False           True        False   \n",
              "3        False   False  False           False          False        False   \n",
              "4        False   False  False           False           True        False   \n",
              "..         ...     ...    ...             ...            ...          ...   \n",
              "95       False   False  False           False          False        False   \n",
              "96       False   False  False           False          False        False   \n",
              "97       False   False  False           False          False        False   \n",
              "98       False   False  False           False          False        False   \n",
              "99       False   False  False           False          False        False   \n",
              "\n",
              "   Sunrise_Sunset Civil_Twilight Nautical_Twilight Astronomical_Twilight  \n",
              "0           Night          Night             Night                 Night  \n",
              "1           Night          Night             Night                   Day  \n",
              "2           Night          Night               Day                   Day  \n",
              "3           Night            Day               Day                   Day  \n",
              "4             Day            Day               Day                   Day  \n",
              "..            ...            ...               ...                   ...  \n",
              "95            Day            Day               Day                   Day  \n",
              "96            Day            Day               Day                   Day  \n",
              "97            Day            Day               Day                   Day  \n",
              "98            Day            Day               Day                   Day  \n",
              "99            Day            Day               Day                   Day  \n",
              "\n",
              "[100 rows x 49 columns]"
            ],
            "text/html": "<div>\n<style scoped>\n    .dataframe tbody tr th:only-of-type {\n        vertical-align: middle;\n    }\n\n    .dataframe tbody tr th {\n        vertical-align: top;\n    }\n\n    .dataframe thead th {\n        text-align: right;\n    }\n</style>\n<table border=\"1\" class=\"dataframe\">\n  <thead>\n    <tr style=\"text-align: right;\">\n      <th></th>\n      <th>ID</th>\n      <th>Source</th>\n      <th>TMC</th>\n      <th>Severity</th>\n      <th>Start_Time</th>\n      <th>End_Time</th>\n      <th>Start_Lat</th>\n      <th>Start_Lng</th>\n      <th>End_Lat</th>\n      <th>End_Lng</th>\n      <th>...</th>\n      <th>Roundabout</th>\n      <th>Station</th>\n      <th>Stop</th>\n      <th>Traffic_Calming</th>\n      <th>Traffic_Signal</th>\n      <th>Turning_Loop</th>\n      <th>Sunrise_Sunset</th>\n      <th>Civil_Twilight</th>\n      <th>Nautical_Twilight</th>\n      <th>Astronomical_Twilight</th>\n    </tr>\n  </thead>\n  <tbody>\n    <tr>\n      <th>0</th>\n      <td>A-1</td>\n      <td>MapQuest</td>\n      <td>201.0</td>\n      <td>3</td>\n      <td>2016-02-08 05:46:00</td>\n      <td>2016-02-08 11:00:00</td>\n      <td>39.865147</td>\n      <td>-84.058723</td>\n      <td>NaN</td>\n      <td>NaN</td>\n      <td>...</td>\n      <td>False</td>\n      <td>False</td>\n      <td>False</td>\n      <td>False</td>\n      <td>False</td>\n      <td>False</td>\n      <td>Night</td>\n      <td>Night</td>\n      <td>Night</td>\n      <td>Night</td>\n    </tr>\n    <tr>\n      <th>1</th>\n      <td>A-2</td>\n      <td>MapQuest</td>\n      <td>201.0</td>\n      <td>2</td>\n      <td>2016-02-08 06:07:59</td>\n      <td>2016-02-08 06:37:59</td>\n      <td>39.928059</td>\n      <td>-82.831184</td>\n      <td>NaN</td>\n      <td>NaN</td>\n      <td>...</td>\n      <td>False</td>\n      <td>False</td>\n      <td>False</td>\n      <td>False</td>\n      <td>False</td>\n      <td>False</td>\n      <td>Night</td>\n      <td>Night</td>\n      <td>Night</td>\n      <td>Day</td>\n    </tr>\n    <tr>\n      <th>2</th>\n      <td>A-3</td>\n      <td>MapQuest</td>\n      <td>201.0</td>\n      <td>2</td>\n      <td>2016-02-08 06:49:27</td>\n      <td>2016-02-08 07:19:27</td>\n      <td>39.063148</td>\n      <td>-84.032608</td>\n      <td>NaN</td>\n      <td>NaN</td>\n      <td>...</td>\n      <td>False</td>\n      <td>False</td>\n      <td>False</td>\n      <td>False</td>\n      <td>True</td>\n      <td>False</td>\n      <td>Night</td>\n      <td>Night</td>\n      <td>Day</td>\n      <td>Day</td>\n    </tr>\n    <tr>\n      <th>3</th>\n      <td>A-4</td>\n      <td>MapQuest</td>\n      <td>201.0</td>\n      <td>3</td>\n      <td>2016-02-08 07:23:34</td>\n      <td>2016-02-08 07:53:34</td>\n      <td>39.747753</td>\n      <td>-84.205582</td>\n      <td>NaN</td>\n      <td>NaN</td>\n      <td>...</td>\n      <td>False</td>\n      <td>False</td>\n      <td>False</td>\n      <td>False</td>\n      <td>False</td>\n      <td>False</td>\n      <td>Night</td>\n      <td>Day</td>\n      <td>Day</td>\n      <td>Day</td>\n    </tr>\n    <tr>\n      <th>4</th>\n      <td>A-5</td>\n      <td>MapQuest</td>\n      <td>201.0</td>\n      <td>2</td>\n      <td>2016-02-08 07:39:07</td>\n      <td>2016-02-08 08:09:07</td>\n      <td>39.627781</td>\n      <td>-84.188354</td>\n      <td>NaN</td>\n      <td>NaN</td>\n      <td>...</td>\n      <td>False</td>\n      <td>False</td>\n      <td>False</td>\n      <td>False</td>\n      <td>True</td>\n      <td>False</td>\n      <td>Day</td>\n      <td>Day</td>\n      <td>Day</td>\n      <td>Day</td>\n    </tr>\n    <tr>\n      <th>...</th>\n      <td>...</td>\n      <td>...</td>\n      <td>...</td>\n      <td>...</td>\n      <td>...</td>\n      <td>...</td>\n      <td>...</td>\n      <td>...</td>\n      <td>...</td>\n      <td>...</td>\n      <td>...</td>\n      <td>...</td>\n      <td>...</td>\n      <td>...</td>\n      <td>...</td>\n      <td>...</td>\n      <td>...</td>\n      <td>...</td>\n      <td>...</td>\n      <td>...</td>\n      <td>...</td>\n    </tr>\n    <tr>\n      <th>95</th>\n      <td>A-96</td>\n      <td>MapQuest</td>\n      <td>201.0</td>\n      <td>2</td>\n      <td>2016-02-11 07:28:16</td>\n      <td>2016-02-11 07:58:16</td>\n      <td>39.994061</td>\n      <td>-82.729416</td>\n      <td>NaN</td>\n      <td>NaN</td>\n      <td>...</td>\n      <td>False</td>\n      <td>False</td>\n      <td>False</td>\n      <td>False</td>\n      <td>False</td>\n      <td>False</td>\n      <td>Day</td>\n      <td>Day</td>\n      <td>Day</td>\n      <td>Day</td>\n    </tr>\n    <tr>\n      <th>96</th>\n      <td>A-97</td>\n      <td>MapQuest</td>\n      <td>201.0</td>\n      <td>3</td>\n      <td>2016-02-11 07:29:06</td>\n      <td>2016-02-11 08:18:10</td>\n      <td>41.355396</td>\n      <td>-81.819267</td>\n      <td>NaN</td>\n      <td>NaN</td>\n      <td>...</td>\n      <td>False</td>\n      <td>False</td>\n      <td>False</td>\n      <td>False</td>\n      <td>False</td>\n      <td>False</td>\n      <td>Day</td>\n      <td>Day</td>\n      <td>Day</td>\n      <td>Day</td>\n    </tr>\n    <tr>\n      <th>97</th>\n      <td>A-98</td>\n      <td>MapQuest</td>\n      <td>201.0</td>\n      <td>2</td>\n      <td>2016-02-11 07:53:55</td>\n      <td>2016-02-11 08:23:55</td>\n      <td>39.687389</td>\n      <td>-84.237968</td>\n      <td>NaN</td>\n      <td>NaN</td>\n      <td>...</td>\n      <td>False</td>\n      <td>False</td>\n      <td>False</td>\n      <td>False</td>\n      <td>False</td>\n      <td>False</td>\n      <td>Day</td>\n      <td>Day</td>\n      <td>Day</td>\n      <td>Day</td>\n    </tr>\n    <tr>\n      <th>98</th>\n      <td>A-99</td>\n      <td>MapQuest</td>\n      <td>201.0</td>\n      <td>2</td>\n      <td>2016-02-11 08:07:02</td>\n      <td>2016-02-11 08:37:02</td>\n      <td>39.751038</td>\n      <td>-84.214325</td>\n      <td>NaN</td>\n      <td>NaN</td>\n      <td>...</td>\n      <td>False</td>\n      <td>False</td>\n      <td>False</td>\n      <td>False</td>\n      <td>False</td>\n      <td>False</td>\n      <td>Day</td>\n      <td>Day</td>\n      <td>Day</td>\n      <td>Day</td>\n    </tr>\n    <tr>\n      <th>99</th>\n      <td>A-100</td>\n      <td>MapQuest</td>\n      <td>201.0</td>\n      <td>2</td>\n      <td>2016-02-11 08:13:24</td>\n      <td>2016-02-11 08:43:24</td>\n      <td>39.749916</td>\n      <td>-84.139359</td>\n      <td>NaN</td>\n      <td>NaN</td>\n      <td>...</td>\n      <td>False</td>\n      <td>False</td>\n      <td>False</td>\n      <td>False</td>\n      <td>False</td>\n      <td>False</td>\n      <td>Day</td>\n      <td>Day</td>\n      <td>Day</td>\n      <td>Day</td>\n    </tr>\n  </tbody>\n</table>\n<p>100 rows × 49 columns</p>\n</div>"
          },
          "metadata": {},
          "execution_count": 1
        }
      ],
      "source": [
        "csv_path = 'resources/us_accident.csv'\n",
        "accident_df = pd.read_csv(csv_path)\n",
        "accident_df.head(100)"
      ]
    },
    {
      "cell_type": "code",
      "execution_count": 4,
      "metadata": {},
      "outputs": [
        {
          "output_type": "execute_result",
          "data": {
            "text/plain": [
              "              ID    Source    TMC  Severity           Start_Time  \\\n",
              "512217  A-512230  MapQuest  201.0         2  2020-12-31 10:47:49   \n",
              "512218  A-512231  MapQuest  201.0         2  2020-12-31 13:24:43   \n",
              "512219  A-512232  MapQuest  201.0         3  2020-12-31 13:29:34   \n",
              "512220  A-512233  MapQuest  201.0         2  2020-12-31 04:35:33   \n",
              "512221  A-512234  MapQuest  201.0         2  2020-12-31 05:11:11   \n",
              "\n",
              "                   End_Time  Start_Lat  Start_Lng  End_Lat  End_Lng  ...  \\\n",
              "512217  2020-12-31 12:19:16  43.207451 -78.650032      NaN      NaN  ...   \n",
              "512218  2020-12-31 13:54:32  43.030651 -78.875862      NaN      NaN  ...   \n",
              "512219  2020-12-31 14:59:19  42.550568 -79.108765      NaN      NaN  ...   \n",
              "512220  2020-12-31 05:35:36  42.362038 -71.071365      NaN      NaN  ...   \n",
              "512221  2020-12-31 07:00:16  42.357281 -71.128036      NaN      NaN  ...   \n",
              "\n",
              "        Roundabout Station   Stop Traffic_Calming Traffic_Signal Turning_Loop  \\\n",
              "512217       False   False  False           False          False        False   \n",
              "512218       False   False  False           False           True        False   \n",
              "512219       False   False  False           False          False        False   \n",
              "512220       False   False  False           False          False        False   \n",
              "512221       False    True  False           False           True        False   \n",
              "\n",
              "       Sunrise_Sunset Civil_Twilight Nautical_Twilight Astronomical_Twilight  \n",
              "512217            Day            Day               Day                   Day  \n",
              "512218            Day            Day               Day                   Day  \n",
              "512219            Day            Day               Day                   Day  \n",
              "512220          Night          Night             Night                 Night  \n",
              "512221          Night          Night             Night                 Night  \n",
              "\n",
              "[5 rows x 49 columns]"
            ],
            "text/html": "<div>\n<style scoped>\n    .dataframe tbody tr th:only-of-type {\n        vertical-align: middle;\n    }\n\n    .dataframe tbody tr th {\n        vertical-align: top;\n    }\n\n    .dataframe thead th {\n        text-align: right;\n    }\n</style>\n<table border=\"1\" class=\"dataframe\">\n  <thead>\n    <tr style=\"text-align: right;\">\n      <th></th>\n      <th>ID</th>\n      <th>Source</th>\n      <th>TMC</th>\n      <th>Severity</th>\n      <th>Start_Time</th>\n      <th>End_Time</th>\n      <th>Start_Lat</th>\n      <th>Start_Lng</th>\n      <th>End_Lat</th>\n      <th>End_Lng</th>\n      <th>...</th>\n      <th>Roundabout</th>\n      <th>Station</th>\n      <th>Stop</th>\n      <th>Traffic_Calming</th>\n      <th>Traffic_Signal</th>\n      <th>Turning_Loop</th>\n      <th>Sunrise_Sunset</th>\n      <th>Civil_Twilight</th>\n      <th>Nautical_Twilight</th>\n      <th>Astronomical_Twilight</th>\n    </tr>\n  </thead>\n  <tbody>\n    <tr>\n      <th>512217</th>\n      <td>A-512230</td>\n      <td>MapQuest</td>\n      <td>201.0</td>\n      <td>2</td>\n      <td>2020-12-31 10:47:49</td>\n      <td>2020-12-31 12:19:16</td>\n      <td>43.207451</td>\n      <td>-78.650032</td>\n      <td>NaN</td>\n      <td>NaN</td>\n      <td>...</td>\n      <td>False</td>\n      <td>False</td>\n      <td>False</td>\n      <td>False</td>\n      <td>False</td>\n      <td>False</td>\n      <td>Day</td>\n      <td>Day</td>\n      <td>Day</td>\n      <td>Day</td>\n    </tr>\n    <tr>\n      <th>512218</th>\n      <td>A-512231</td>\n      <td>MapQuest</td>\n      <td>201.0</td>\n      <td>2</td>\n      <td>2020-12-31 13:24:43</td>\n      <td>2020-12-31 13:54:32</td>\n      <td>43.030651</td>\n      <td>-78.875862</td>\n      <td>NaN</td>\n      <td>NaN</td>\n      <td>...</td>\n      <td>False</td>\n      <td>False</td>\n      <td>False</td>\n      <td>False</td>\n      <td>True</td>\n      <td>False</td>\n      <td>Day</td>\n      <td>Day</td>\n      <td>Day</td>\n      <td>Day</td>\n    </tr>\n    <tr>\n      <th>512219</th>\n      <td>A-512232</td>\n      <td>MapQuest</td>\n      <td>201.0</td>\n      <td>3</td>\n      <td>2020-12-31 13:29:34</td>\n      <td>2020-12-31 14:59:19</td>\n      <td>42.550568</td>\n      <td>-79.108765</td>\n      <td>NaN</td>\n      <td>NaN</td>\n      <td>...</td>\n      <td>False</td>\n      <td>False</td>\n      <td>False</td>\n      <td>False</td>\n      <td>False</td>\n      <td>False</td>\n      <td>Day</td>\n      <td>Day</td>\n      <td>Day</td>\n      <td>Day</td>\n    </tr>\n    <tr>\n      <th>512220</th>\n      <td>A-512233</td>\n      <td>MapQuest</td>\n      <td>201.0</td>\n      <td>2</td>\n      <td>2020-12-31 04:35:33</td>\n      <td>2020-12-31 05:35:36</td>\n      <td>42.362038</td>\n      <td>-71.071365</td>\n      <td>NaN</td>\n      <td>NaN</td>\n      <td>...</td>\n      <td>False</td>\n      <td>False</td>\n      <td>False</td>\n      <td>False</td>\n      <td>False</td>\n      <td>False</td>\n      <td>Night</td>\n      <td>Night</td>\n      <td>Night</td>\n      <td>Night</td>\n    </tr>\n    <tr>\n      <th>512221</th>\n      <td>A-512234</td>\n      <td>MapQuest</td>\n      <td>201.0</td>\n      <td>2</td>\n      <td>2020-12-31 05:11:11</td>\n      <td>2020-12-31 07:00:16</td>\n      <td>42.357281</td>\n      <td>-71.128036</td>\n      <td>NaN</td>\n      <td>NaN</td>\n      <td>...</td>\n      <td>False</td>\n      <td>True</td>\n      <td>False</td>\n      <td>False</td>\n      <td>True</td>\n      <td>False</td>\n      <td>Night</td>\n      <td>Night</td>\n      <td>Night</td>\n      <td>Night</td>\n    </tr>\n  </tbody>\n</table>\n<p>5 rows × 49 columns</p>\n</div>"
          },
          "metadata": {},
          "execution_count": 4
        }
      ],
      "source": [
        "clean_df = accident_df[accident_df['Start_Time'].str.match('2020-')]\n",
        "clean_df.head()"
      ]
    },
    {
      "cell_type": "code",
      "execution_count": 6,
      "metadata": {},
      "outputs": [
        {
          "output_type": "execute_result",
          "data": {
            "text/plain": [
              "                ID  Severity           Start_Time             End_Time  \\\n",
              "512217    A-512230         2  2020-12-31 10:47:49  2020-12-31 12:19:16   \n",
              "512218    A-512231         2  2020-12-31 13:24:43  2020-12-31 13:54:32   \n",
              "512219    A-512232         3  2020-12-31 13:29:34  2020-12-31 14:59:19   \n",
              "512220    A-512233         2  2020-12-31 04:35:33  2020-12-31 05:35:36   \n",
              "512221    A-512234         2  2020-12-31 05:11:11  2020-12-31 07:00:16   \n",
              "...            ...       ...                  ...                  ...   \n",
              "3741840  A-3748701         2  2020-01-06 20:59:00  2020-01-06 21:32:38   \n",
              "3741841  A-3748702         2  2020-01-06 21:14:00  2020-01-06 23:16:38   \n",
              "3741842  A-3748703         2  2020-01-06 21:19:00  2020-01-06 22:19:37   \n",
              "3752192  A-3759053         2  2020-01-01 00:08:02  2020-01-01 00:37:03   \n",
              "3752228  A-3759089         4  2020-01-01 00:31:17  2020-01-01 00:59:51   \n",
              "\n",
              "                                               Description             City  \\\n",
              "512217   Accident on Day Rd near CR-7 Slayton Settlemen...         Lockport   \n",
              "512218                Accident on Oliver St at Schenck St.  North Tonawanda   \n",
              "512219                 Accident on I-90 Westbound at NY-5.     Silver Creek   \n",
              "512220        Accident on Storrow Dr inbound near S Curve.           Boston   \n",
              "512221             Accident on Lincoln St at Cambridge St.          Allston   \n",
              "...                                                    ...              ...   \n",
              "3741840                                 At I-5 - Accident.    Mission Hills   \n",
              "3741841                           At Utica Ave - Accident.       Lost Hills   \n",
              "3741842                        At N Virgil Ave - Accident.      Los Angeles   \n",
              "3752192  At Clark St/Exit 47A - Accident. Left lane blo...          Detroit   \n",
              "3752228  Closed at St Barnabas Rd - Road closed due to ...         Suitland   \n",
              "\n",
              "        State  \n",
              "512217     NY  \n",
              "512218     NY  \n",
              "512219     NY  \n",
              "512220     MA  \n",
              "512221     MA  \n",
              "...       ...  \n",
              "3741840    CA  \n",
              "3741841    CA  \n",
              "3741842    CA  \n",
              "3752192    MI  \n",
              "3752228    MD  \n",
              "\n",
              "[1258156 rows x 7 columns]"
            ],
            "text/html": "<div>\n<style scoped>\n    .dataframe tbody tr th:only-of-type {\n        vertical-align: middle;\n    }\n\n    .dataframe tbody tr th {\n        vertical-align: top;\n    }\n\n    .dataframe thead th {\n        text-align: right;\n    }\n</style>\n<table border=\"1\" class=\"dataframe\">\n  <thead>\n    <tr style=\"text-align: right;\">\n      <th></th>\n      <th>ID</th>\n      <th>Severity</th>\n      <th>Start_Time</th>\n      <th>End_Time</th>\n      <th>Description</th>\n      <th>City</th>\n      <th>State</th>\n    </tr>\n  </thead>\n  <tbody>\n    <tr>\n      <th>512217</th>\n      <td>A-512230</td>\n      <td>2</td>\n      <td>2020-12-31 10:47:49</td>\n      <td>2020-12-31 12:19:16</td>\n      <td>Accident on Day Rd near CR-7 Slayton Settlemen...</td>\n      <td>Lockport</td>\n      <td>NY</td>\n    </tr>\n    <tr>\n      <th>512218</th>\n      <td>A-512231</td>\n      <td>2</td>\n      <td>2020-12-31 13:24:43</td>\n      <td>2020-12-31 13:54:32</td>\n      <td>Accident on Oliver St at Schenck St.</td>\n      <td>North Tonawanda</td>\n      <td>NY</td>\n    </tr>\n    <tr>\n      <th>512219</th>\n      <td>A-512232</td>\n      <td>3</td>\n      <td>2020-12-31 13:29:34</td>\n      <td>2020-12-31 14:59:19</td>\n      <td>Accident on I-90 Westbound at NY-5.</td>\n      <td>Silver Creek</td>\n      <td>NY</td>\n    </tr>\n    <tr>\n      <th>512220</th>\n      <td>A-512233</td>\n      <td>2</td>\n      <td>2020-12-31 04:35:33</td>\n      <td>2020-12-31 05:35:36</td>\n      <td>Accident on Storrow Dr inbound near S Curve.</td>\n      <td>Boston</td>\n      <td>MA</td>\n    </tr>\n    <tr>\n      <th>512221</th>\n      <td>A-512234</td>\n      <td>2</td>\n      <td>2020-12-31 05:11:11</td>\n      <td>2020-12-31 07:00:16</td>\n      <td>Accident on Lincoln St at Cambridge St.</td>\n      <td>Allston</td>\n      <td>MA</td>\n    </tr>\n    <tr>\n      <th>...</th>\n      <td>...</td>\n      <td>...</td>\n      <td>...</td>\n      <td>...</td>\n      <td>...</td>\n      <td>...</td>\n      <td>...</td>\n    </tr>\n    <tr>\n      <th>3741840</th>\n      <td>A-3748701</td>\n      <td>2</td>\n      <td>2020-01-06 20:59:00</td>\n      <td>2020-01-06 21:32:38</td>\n      <td>At I-5 - Accident.</td>\n      <td>Mission Hills</td>\n      <td>CA</td>\n    </tr>\n    <tr>\n      <th>3741841</th>\n      <td>A-3748702</td>\n      <td>2</td>\n      <td>2020-01-06 21:14:00</td>\n      <td>2020-01-06 23:16:38</td>\n      <td>At Utica Ave - Accident.</td>\n      <td>Lost Hills</td>\n      <td>CA</td>\n    </tr>\n    <tr>\n      <th>3741842</th>\n      <td>A-3748703</td>\n      <td>2</td>\n      <td>2020-01-06 21:19:00</td>\n      <td>2020-01-06 22:19:37</td>\n      <td>At N Virgil Ave - Accident.</td>\n      <td>Los Angeles</td>\n      <td>CA</td>\n    </tr>\n    <tr>\n      <th>3752192</th>\n      <td>A-3759053</td>\n      <td>2</td>\n      <td>2020-01-01 00:08:02</td>\n      <td>2020-01-01 00:37:03</td>\n      <td>At Clark St/Exit 47A - Accident. Left lane blo...</td>\n      <td>Detroit</td>\n      <td>MI</td>\n    </tr>\n    <tr>\n      <th>3752228</th>\n      <td>A-3759089</td>\n      <td>4</td>\n      <td>2020-01-01 00:31:17</td>\n      <td>2020-01-01 00:59:51</td>\n      <td>Closed at St Barnabas Rd - Road closed due to ...</td>\n      <td>Suitland</td>\n      <td>MD</td>\n    </tr>\n  </tbody>\n</table>\n<p>1258156 rows × 7 columns</p>\n</div>"
          },
          "metadata": {},
          "execution_count": 6
        }
      ],
      "source": [
        "cleaner_df = clean_df[['ID','Severity', 'Start_Time', 'End_Time','Description','City','State']]\n",
        "cleaner_df"
      ]
    },
    {
      "cell_type": "code",
      "execution_count": 7,
      "metadata": {},
      "outputs": [],
      "source": [
        "cleaner_df = cleaner_df.rename(columns = {'Severity': 'Accident_Severity'})"
      ]
    },
    {
      "cell_type": "code",
      "execution_count": 9,
      "metadata": {},
      "outputs": [],
      "source": [
        "cleaner_df = cleaner_df.rename(columns = {'Start_Time': 'Accident_Start_Time', 'End_Time': 'Accident_End_Time'})"
      ]
    },
    {
      "cell_type": "code",
      "execution_count": 10,
      "metadata": {},
      "outputs": [
        {
          "output_type": "execute_result",
          "data": {
            "text/plain": [
              "                ID  Accident_Severity  Accident_Start_Time  \\\n",
              "512217    A-512230                  2  2020-12-31 10:47:49   \n",
              "512218    A-512231                  2  2020-12-31 13:24:43   \n",
              "512219    A-512232                  3  2020-12-31 13:29:34   \n",
              "512220    A-512233                  2  2020-12-31 04:35:33   \n",
              "512221    A-512234                  2  2020-12-31 05:11:11   \n",
              "...            ...                ...                  ...   \n",
              "3741840  A-3748701                  2  2020-01-06 20:59:00   \n",
              "3741841  A-3748702                  2  2020-01-06 21:14:00   \n",
              "3741842  A-3748703                  2  2020-01-06 21:19:00   \n",
              "3752192  A-3759053                  2  2020-01-01 00:08:02   \n",
              "3752228  A-3759089                  4  2020-01-01 00:31:17   \n",
              "\n",
              "           Accident_End_Time  \\\n",
              "512217   2020-12-31 12:19:16   \n",
              "512218   2020-12-31 13:54:32   \n",
              "512219   2020-12-31 14:59:19   \n",
              "512220   2020-12-31 05:35:36   \n",
              "512221   2020-12-31 07:00:16   \n",
              "...                      ...   \n",
              "3741840  2020-01-06 21:32:38   \n",
              "3741841  2020-01-06 23:16:38   \n",
              "3741842  2020-01-06 22:19:37   \n",
              "3752192  2020-01-01 00:37:03   \n",
              "3752228  2020-01-01 00:59:51   \n",
              "\n",
              "                                               Description             City  \\\n",
              "512217   Accident on Day Rd near CR-7 Slayton Settlemen...         Lockport   \n",
              "512218                Accident on Oliver St at Schenck St.  North Tonawanda   \n",
              "512219                 Accident on I-90 Westbound at NY-5.     Silver Creek   \n",
              "512220        Accident on Storrow Dr inbound near S Curve.           Boston   \n",
              "512221             Accident on Lincoln St at Cambridge St.          Allston   \n",
              "...                                                    ...              ...   \n",
              "3741840                                 At I-5 - Accident.    Mission Hills   \n",
              "3741841                           At Utica Ave - Accident.       Lost Hills   \n",
              "3741842                        At N Virgil Ave - Accident.      Los Angeles   \n",
              "3752192  At Clark St/Exit 47A - Accident. Left lane blo...          Detroit   \n",
              "3752228  Closed at St Barnabas Rd - Road closed due to ...         Suitland   \n",
              "\n",
              "        State  \n",
              "512217     NY  \n",
              "512218     NY  \n",
              "512219     NY  \n",
              "512220     MA  \n",
              "512221     MA  \n",
              "...       ...  \n",
              "3741840    CA  \n",
              "3741841    CA  \n",
              "3741842    CA  \n",
              "3752192    MI  \n",
              "3752228    MD  \n",
              "\n",
              "[1258156 rows x 7 columns]"
            ],
            "text/html": "<div>\n<style scoped>\n    .dataframe tbody tr th:only-of-type {\n        vertical-align: middle;\n    }\n\n    .dataframe tbody tr th {\n        vertical-align: top;\n    }\n\n    .dataframe thead th {\n        text-align: right;\n    }\n</style>\n<table border=\"1\" class=\"dataframe\">\n  <thead>\n    <tr style=\"text-align: right;\">\n      <th></th>\n      <th>ID</th>\n      <th>Accident_Severity</th>\n      <th>Accident_Start_Time</th>\n      <th>Accident_End_Time</th>\n      <th>Description</th>\n      <th>City</th>\n      <th>State</th>\n    </tr>\n  </thead>\n  <tbody>\n    <tr>\n      <th>512217</th>\n      <td>A-512230</td>\n      <td>2</td>\n      <td>2020-12-31 10:47:49</td>\n      <td>2020-12-31 12:19:16</td>\n      <td>Accident on Day Rd near CR-7 Slayton Settlemen...</td>\n      <td>Lockport</td>\n      <td>NY</td>\n    </tr>\n    <tr>\n      <th>512218</th>\n      <td>A-512231</td>\n      <td>2</td>\n      <td>2020-12-31 13:24:43</td>\n      <td>2020-12-31 13:54:32</td>\n      <td>Accident on Oliver St at Schenck St.</td>\n      <td>North Tonawanda</td>\n      <td>NY</td>\n    </tr>\n    <tr>\n      <th>512219</th>\n      <td>A-512232</td>\n      <td>3</td>\n      <td>2020-12-31 13:29:34</td>\n      <td>2020-12-31 14:59:19</td>\n      <td>Accident on I-90 Westbound at NY-5.</td>\n      <td>Silver Creek</td>\n      <td>NY</td>\n    </tr>\n    <tr>\n      <th>512220</th>\n      <td>A-512233</td>\n      <td>2</td>\n      <td>2020-12-31 04:35:33</td>\n      <td>2020-12-31 05:35:36</td>\n      <td>Accident on Storrow Dr inbound near S Curve.</td>\n      <td>Boston</td>\n      <td>MA</td>\n    </tr>\n    <tr>\n      <th>512221</th>\n      <td>A-512234</td>\n      <td>2</td>\n      <td>2020-12-31 05:11:11</td>\n      <td>2020-12-31 07:00:16</td>\n      <td>Accident on Lincoln St at Cambridge St.</td>\n      <td>Allston</td>\n      <td>MA</td>\n    </tr>\n    <tr>\n      <th>...</th>\n      <td>...</td>\n      <td>...</td>\n      <td>...</td>\n      <td>...</td>\n      <td>...</td>\n      <td>...</td>\n      <td>...</td>\n    </tr>\n    <tr>\n      <th>3741840</th>\n      <td>A-3748701</td>\n      <td>2</td>\n      <td>2020-01-06 20:59:00</td>\n      <td>2020-01-06 21:32:38</td>\n      <td>At I-5 - Accident.</td>\n      <td>Mission Hills</td>\n      <td>CA</td>\n    </tr>\n    <tr>\n      <th>3741841</th>\n      <td>A-3748702</td>\n      <td>2</td>\n      <td>2020-01-06 21:14:00</td>\n      <td>2020-01-06 23:16:38</td>\n      <td>At Utica Ave - Accident.</td>\n      <td>Lost Hills</td>\n      <td>CA</td>\n    </tr>\n    <tr>\n      <th>3741842</th>\n      <td>A-3748703</td>\n      <td>2</td>\n      <td>2020-01-06 21:19:00</td>\n      <td>2020-01-06 22:19:37</td>\n      <td>At N Virgil Ave - Accident.</td>\n      <td>Los Angeles</td>\n      <td>CA</td>\n    </tr>\n    <tr>\n      <th>3752192</th>\n      <td>A-3759053</td>\n      <td>2</td>\n      <td>2020-01-01 00:08:02</td>\n      <td>2020-01-01 00:37:03</td>\n      <td>At Clark St/Exit 47A - Accident. Left lane blo...</td>\n      <td>Detroit</td>\n      <td>MI</td>\n    </tr>\n    <tr>\n      <th>3752228</th>\n      <td>A-3759089</td>\n      <td>4</td>\n      <td>2020-01-01 00:31:17</td>\n      <td>2020-01-01 00:59:51</td>\n      <td>Closed at St Barnabas Rd - Road closed due to ...</td>\n      <td>Suitland</td>\n      <td>MD</td>\n    </tr>\n  </tbody>\n</table>\n<p>1258156 rows × 7 columns</p>\n</div>"
          },
          "metadata": {},
          "execution_count": 10
        }
      ],
      "source": [
        "cleaner_df.to_csv('resources/clean_us_accident')"
      ]
    }
  ],
  "metadata": {
    "kernelspec": {
      "name": "python3",
      "display_name": "Python 3.6.10 64-bit ('PythonData': conda)",
      "metadata": {
        "interpreter": {
          "hash": "9093931be169533ad0f0dd76f55650949bcb45b2ed14d0b34b011d6ae005ebd8"
        }
      }
    },
    "language_info": {
      "codemirror_mode": {
        "name": "ipython",
        "version": 3
      },
      "file_extension": ".py",
      "mimetype": "text/x-python",
      "name": "python",
      "nbconvert_exporter": "python",
      "pygments_lexer": "ipython3",
      "version": "3.6.10-final"
    },
    "nteract": {
      "version": "0.12.3"
    }
  },
  "nbformat": 4,
  "nbformat_minor": 2
}