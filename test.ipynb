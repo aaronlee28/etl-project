{
 "cells": [
  {
   "cell_type": "code",
   "execution_count": 1,
   "metadata": {},
   "outputs": [],
   "source": [
    "import pandas as pd\n"
   ]
  },
  {
   "cell_type": "code",
   "execution_count": 2,
   "metadata": {},
   "outputs": [
    {
     "output_type": "execute_result",
     "data": {
      "text/plain": [
       "         Unnamed: 0    EventId  Type  Severity Weather_Start_Time(UTC)  \\\n",
       "0              1721     W-1722  Snow     Light     2020-01-01 19:30:00   \n",
       "1              1722     W-1723  Snow     Light     2020-01-02 00:32:00   \n",
       "2              1723     W-1724  Snow     Light     2020-01-02 01:12:00   \n",
       "3              1724     W-1725  Snow     Light     2020-01-02 04:12:00   \n",
       "4              1725     W-1726  Snow     Light     2020-01-02 05:30:00   \n",
       "...             ...        ...   ...       ...                     ...   \n",
       "1214216     6274201  W-6276144  Snow     Light     2020-12-14 17:30:00   \n",
       "1214217     6274202  W-6276145  Snow  Moderate     2020-12-15 01:53:00   \n",
       "1214218     6274203  W-6276146  Snow     Light     2020-12-15 03:19:00   \n",
       "1214219     6274204  W-6276147  Snow     Light     2020-12-23 04:24:00   \n",
       "1214220     6274205  W-6276148  Snow     Light     2020-12-23 10:53:00   \n",
       "\n",
       "                EndTime(UTC)     TimeZone AirportCode      City State  \n",
       "0        2020-01-01 22:12:00  US/Mountain        K04V  Saguache    CO  \n",
       "1        2020-01-02 00:50:00  US/Mountain        K04V  Saguache    CO  \n",
       "2        2020-01-02 01:30:00  US/Mountain        K04V  Saguache    CO  \n",
       "3        2020-01-02 04:30:00  US/Mountain        K04V  Saguache    CO  \n",
       "4        2020-01-02 06:12:00  US/Mountain        K04V  Saguache    CO  \n",
       "...                      ...          ...         ...       ...   ...  \n",
       "1214216  2020-12-15 01:53:00  US/Mountain        KBVR    Lander    WY  \n",
       "1214217  2020-12-15 03:19:00  US/Mountain        KBVR    Lander    WY  \n",
       "1214218  2020-12-15 05:53:00  US/Mountain        KBVR    Lander    WY  \n",
       "1214219  2020-12-23 05:53:00  US/Mountain        KBVR    Lander    WY  \n",
       "1214220  2020-12-23 11:26:00  US/Mountain        KBVR    Lander    WY  \n",
       "\n",
       "[1214221 rows x 10 columns]"
      ],
      "text/html": "<div>\n<style scoped>\n    .dataframe tbody tr th:only-of-type {\n        vertical-align: middle;\n    }\n\n    .dataframe tbody tr th {\n        vertical-align: top;\n    }\n\n    .dataframe thead th {\n        text-align: right;\n    }\n</style>\n<table border=\"1\" class=\"dataframe\">\n  <thead>\n    <tr style=\"text-align: right;\">\n      <th></th>\n      <th>Unnamed: 0</th>\n      <th>EventId</th>\n      <th>Type</th>\n      <th>Severity</th>\n      <th>Weather_Start_Time(UTC)</th>\n      <th>EndTime(UTC)</th>\n      <th>TimeZone</th>\n      <th>AirportCode</th>\n      <th>City</th>\n      <th>State</th>\n    </tr>\n  </thead>\n  <tbody>\n    <tr>\n      <th>0</th>\n      <td>1721</td>\n      <td>W-1722</td>\n      <td>Snow</td>\n      <td>Light</td>\n      <td>2020-01-01 19:30:00</td>\n      <td>2020-01-01 22:12:00</td>\n      <td>US/Mountain</td>\n      <td>K04V</td>\n      <td>Saguache</td>\n      <td>CO</td>\n    </tr>\n    <tr>\n      <th>1</th>\n      <td>1722</td>\n      <td>W-1723</td>\n      <td>Snow</td>\n      <td>Light</td>\n      <td>2020-01-02 00:32:00</td>\n      <td>2020-01-02 00:50:00</td>\n      <td>US/Mountain</td>\n      <td>K04V</td>\n      <td>Saguache</td>\n      <td>CO</td>\n    </tr>\n    <tr>\n      <th>2</th>\n      <td>1723</td>\n      <td>W-1724</td>\n      <td>Snow</td>\n      <td>Light</td>\n      <td>2020-01-02 01:12:00</td>\n      <td>2020-01-02 01:30:00</td>\n      <td>US/Mountain</td>\n      <td>K04V</td>\n      <td>Saguache</td>\n      <td>CO</td>\n    </tr>\n    <tr>\n      <th>3</th>\n      <td>1724</td>\n      <td>W-1725</td>\n      <td>Snow</td>\n      <td>Light</td>\n      <td>2020-01-02 04:12:00</td>\n      <td>2020-01-02 04:30:00</td>\n      <td>US/Mountain</td>\n      <td>K04V</td>\n      <td>Saguache</td>\n      <td>CO</td>\n    </tr>\n    <tr>\n      <th>4</th>\n      <td>1725</td>\n      <td>W-1726</td>\n      <td>Snow</td>\n      <td>Light</td>\n      <td>2020-01-02 05:30:00</td>\n      <td>2020-01-02 06:12:00</td>\n      <td>US/Mountain</td>\n      <td>K04V</td>\n      <td>Saguache</td>\n      <td>CO</td>\n    </tr>\n    <tr>\n      <th>...</th>\n      <td>...</td>\n      <td>...</td>\n      <td>...</td>\n      <td>...</td>\n      <td>...</td>\n      <td>...</td>\n      <td>...</td>\n      <td>...</td>\n      <td>...</td>\n      <td>...</td>\n    </tr>\n    <tr>\n      <th>1214216</th>\n      <td>6274201</td>\n      <td>W-6276144</td>\n      <td>Snow</td>\n      <td>Light</td>\n      <td>2020-12-14 17:30:00</td>\n      <td>2020-12-15 01:53:00</td>\n      <td>US/Mountain</td>\n      <td>KBVR</td>\n      <td>Lander</td>\n      <td>WY</td>\n    </tr>\n    <tr>\n      <th>1214217</th>\n      <td>6274202</td>\n      <td>W-6276145</td>\n      <td>Snow</td>\n      <td>Moderate</td>\n      <td>2020-12-15 01:53:00</td>\n      <td>2020-12-15 03:19:00</td>\n      <td>US/Mountain</td>\n      <td>KBVR</td>\n      <td>Lander</td>\n      <td>WY</td>\n    </tr>\n    <tr>\n      <th>1214218</th>\n      <td>6274203</td>\n      <td>W-6276146</td>\n      <td>Snow</td>\n      <td>Light</td>\n      <td>2020-12-15 03:19:00</td>\n      <td>2020-12-15 05:53:00</td>\n      <td>US/Mountain</td>\n      <td>KBVR</td>\n      <td>Lander</td>\n      <td>WY</td>\n    </tr>\n    <tr>\n      <th>1214219</th>\n      <td>6274204</td>\n      <td>W-6276147</td>\n      <td>Snow</td>\n      <td>Light</td>\n      <td>2020-12-23 04:24:00</td>\n      <td>2020-12-23 05:53:00</td>\n      <td>US/Mountain</td>\n      <td>KBVR</td>\n      <td>Lander</td>\n      <td>WY</td>\n    </tr>\n    <tr>\n      <th>1214220</th>\n      <td>6274205</td>\n      <td>W-6276148</td>\n      <td>Snow</td>\n      <td>Light</td>\n      <td>2020-12-23 10:53:00</td>\n      <td>2020-12-23 11:26:00</td>\n      <td>US/Mountain</td>\n      <td>KBVR</td>\n      <td>Lander</td>\n      <td>WY</td>\n    </tr>\n  </tbody>\n</table>\n<p>1214221 rows × 10 columns</p>\n</div>"
     },
     "metadata": {},
     "execution_count": 2
    }
   ],
   "source": [
    "weather_df = pd.read_csv(\"resources/clean_us_weather.csv\")\n",
    "accident_df = pd.read_csv(\"resources/clean_us_accident.csv\")\n",
    "weather_df"
   ]
  },
  {
   "cell_type": "code",
   "execution_count": 3,
   "metadata": {},
   "outputs": [],
   "source": [
    "weather_df = weather_df.drop(columns='Unnamed: 0')\n"
   ]
  },
  {
   "cell_type": "code",
   "execution_count": 4,
   "metadata": {},
   "outputs": [
    {
     "output_type": "execute_result",
     "data": {
      "text/plain": [
       "<bound method DataFrame.count of            EventId  Type  Severity Weather_Start_Time(UTC)  \\\n",
       "381027   W-1940944   Fog  Moderate     2020-01-07 16:53:00   \n",
       "381028   W-1940945  Snow     Light     2020-01-14 17:43:00   \n",
       "381029   W-1940946  Snow     Light     2020-01-14 20:53:00   \n",
       "381030   W-1940947  Snow     Light     2020-01-27 11:53:00   \n",
       "381031   W-1940948  Snow  Moderate     2020-01-27 14:19:00   \n",
       "...            ...   ...       ...                     ...   \n",
       "1214216  W-6276144  Snow     Light     2020-12-14 17:30:00   \n",
       "1214217  W-6276145  Snow  Moderate     2020-12-15 01:53:00   \n",
       "1214218  W-6276146  Snow     Light     2020-12-15 03:19:00   \n",
       "1214219  W-6276147  Snow     Light     2020-12-23 04:24:00   \n",
       "1214220  W-6276148  Snow     Light     2020-12-23 10:53:00   \n",
       "\n",
       "                EndTime(UTC)     TimeZone AirportCode    City State  \n",
       "381027   2020-01-07 17:53:00  US/Mountain        KLND  Lander    WY  \n",
       "381028   2020-01-14 18:29:00  US/Mountain        KLND  Lander    WY  \n",
       "381029   2020-01-14 21:53:00  US/Mountain        KLND  Lander    WY  \n",
       "381030   2020-01-27 14:19:00  US/Mountain        KLND  Lander    WY  \n",
       "381031   2020-01-27 14:53:00  US/Mountain        KLND  Lander    WY  \n",
       "...                      ...          ...         ...     ...   ...  \n",
       "1214216  2020-12-15 01:53:00  US/Mountain        KBVR  Lander    WY  \n",
       "1214217  2020-12-15 03:19:00  US/Mountain        KBVR  Lander    WY  \n",
       "1214218  2020-12-15 05:53:00  US/Mountain        KBVR  Lander    WY  \n",
       "1214219  2020-12-23 05:53:00  US/Mountain        KBVR  Lander    WY  \n",
       "1214220  2020-12-23 11:26:00  US/Mountain        KBVR  Lander    WY  \n",
       "\n",
       "[578 rows x 9 columns]>"
      ]
     },
     "metadata": {},
     "execution_count": 4
    }
   ],
   "source": [
    "#trim weather df by city\n",
    "#new_df = df.loc[df['City'] == \"CityName\"]\n",
    "weather_df_city = weather_df.loc[weather_df['City'] ==\"Lander\"]\n",
    "weather_df_city.count"
   ]
  },
  {
   "cell_type": "code",
   "execution_count": 5,
   "metadata": {},
   "outputs": [
    {
     "output_type": "execute_result",
     "data": {
      "text/plain": [
       "                ID  Accident_Severity  Accident_Start_Time  \\\n",
       "0         A-512230                  2  2020-12-31 10:47:49   \n",
       "1         A-512231                  2  2020-12-31 13:24:43   \n",
       "2         A-512232                  3  2020-12-31 13:29:34   \n",
       "3         A-512233                  2  2020-12-31 04:35:33   \n",
       "4         A-512234                  2  2020-12-31 05:11:11   \n",
       "...            ...                ...                  ...   \n",
       "1258151  A-3748701                  2  2020-01-06 20:59:00   \n",
       "1258152  A-3748702                  2  2020-01-06 21:14:00   \n",
       "1258153  A-3748703                  2  2020-01-06 21:19:00   \n",
       "1258154  A-3759053                  2  2020-01-01 00:08:02   \n",
       "1258155  A-3759089                  4  2020-01-01 00:31:17   \n",
       "\n",
       "           Accident_End_Time  \\\n",
       "0        2020-12-31 12:19:16   \n",
       "1        2020-12-31 13:54:32   \n",
       "2        2020-12-31 14:59:19   \n",
       "3        2020-12-31 05:35:36   \n",
       "4        2020-12-31 07:00:16   \n",
       "...                      ...   \n",
       "1258151  2020-01-06 21:32:38   \n",
       "1258152  2020-01-06 23:16:38   \n",
       "1258153  2020-01-06 22:19:37   \n",
       "1258154  2020-01-01 00:37:03   \n",
       "1258155  2020-01-01 00:59:51   \n",
       "\n",
       "                                               Description             City  \\\n",
       "0        Accident on Day Rd near CR-7 Slayton Settlemen...         Lockport   \n",
       "1                     Accident on Oliver St at Schenck St.  North Tonawanda   \n",
       "2                      Accident on I-90 Westbound at NY-5.     Silver Creek   \n",
       "3             Accident on Storrow Dr inbound near S Curve.           Boston   \n",
       "4                  Accident on Lincoln St at Cambridge St.          Allston   \n",
       "...                                                    ...              ...   \n",
       "1258151                                 At I-5 - Accident.    Mission Hills   \n",
       "1258152                           At Utica Ave - Accident.       Lost Hills   \n",
       "1258153                        At N Virgil Ave - Accident.      Los Angeles   \n",
       "1258154  At Clark St/Exit 47A - Accident. Left lane blo...          Detroit   \n",
       "1258155  Closed at St Barnabas Rd - Road closed due to ...         Suitland   \n",
       "\n",
       "        State  \n",
       "0          NY  \n",
       "1          NY  \n",
       "2          NY  \n",
       "3          MA  \n",
       "4          MA  \n",
       "...       ...  \n",
       "1258151    CA  \n",
       "1258152    CA  \n",
       "1258153    CA  \n",
       "1258154    MI  \n",
       "1258155    MD  \n",
       "\n",
       "[1258156 rows x 7 columns]"
      ],
      "text/html": "<div>\n<style scoped>\n    .dataframe tbody tr th:only-of-type {\n        vertical-align: middle;\n    }\n\n    .dataframe tbody tr th {\n        vertical-align: top;\n    }\n\n    .dataframe thead th {\n        text-align: right;\n    }\n</style>\n<table border=\"1\" class=\"dataframe\">\n  <thead>\n    <tr style=\"text-align: right;\">\n      <th></th>\n      <th>ID</th>\n      <th>Accident_Severity</th>\n      <th>Accident_Start_Time</th>\n      <th>Accident_End_Time</th>\n      <th>Description</th>\n      <th>City</th>\n      <th>State</th>\n    </tr>\n  </thead>\n  <tbody>\n    <tr>\n      <th>0</th>\n      <td>A-512230</td>\n      <td>2</td>\n      <td>2020-12-31 10:47:49</td>\n      <td>2020-12-31 12:19:16</td>\n      <td>Accident on Day Rd near CR-7 Slayton Settlemen...</td>\n      <td>Lockport</td>\n      <td>NY</td>\n    </tr>\n    <tr>\n      <th>1</th>\n      <td>A-512231</td>\n      <td>2</td>\n      <td>2020-12-31 13:24:43</td>\n      <td>2020-12-31 13:54:32</td>\n      <td>Accident on Oliver St at Schenck St.</td>\n      <td>North Tonawanda</td>\n      <td>NY</td>\n    </tr>\n    <tr>\n      <th>2</th>\n      <td>A-512232</td>\n      <td>3</td>\n      <td>2020-12-31 13:29:34</td>\n      <td>2020-12-31 14:59:19</td>\n      <td>Accident on I-90 Westbound at NY-5.</td>\n      <td>Silver Creek</td>\n      <td>NY</td>\n    </tr>\n    <tr>\n      <th>3</th>\n      <td>A-512233</td>\n      <td>2</td>\n      <td>2020-12-31 04:35:33</td>\n      <td>2020-12-31 05:35:36</td>\n      <td>Accident on Storrow Dr inbound near S Curve.</td>\n      <td>Boston</td>\n      <td>MA</td>\n    </tr>\n    <tr>\n      <th>4</th>\n      <td>A-512234</td>\n      <td>2</td>\n      <td>2020-12-31 05:11:11</td>\n      <td>2020-12-31 07:00:16</td>\n      <td>Accident on Lincoln St at Cambridge St.</td>\n      <td>Allston</td>\n      <td>MA</td>\n    </tr>\n    <tr>\n      <th>...</th>\n      <td>...</td>\n      <td>...</td>\n      <td>...</td>\n      <td>...</td>\n      <td>...</td>\n      <td>...</td>\n      <td>...</td>\n    </tr>\n    <tr>\n      <th>1258151</th>\n      <td>A-3748701</td>\n      <td>2</td>\n      <td>2020-01-06 20:59:00</td>\n      <td>2020-01-06 21:32:38</td>\n      <td>At I-5 - Accident.</td>\n      <td>Mission Hills</td>\n      <td>CA</td>\n    </tr>\n    <tr>\n      <th>1258152</th>\n      <td>A-3748702</td>\n      <td>2</td>\n      <td>2020-01-06 21:14:00</td>\n      <td>2020-01-06 23:16:38</td>\n      <td>At Utica Ave - Accident.</td>\n      <td>Lost Hills</td>\n      <td>CA</td>\n    </tr>\n    <tr>\n      <th>1258153</th>\n      <td>A-3748703</td>\n      <td>2</td>\n      <td>2020-01-06 21:19:00</td>\n      <td>2020-01-06 22:19:37</td>\n      <td>At N Virgil Ave - Accident.</td>\n      <td>Los Angeles</td>\n      <td>CA</td>\n    </tr>\n    <tr>\n      <th>1258154</th>\n      <td>A-3759053</td>\n      <td>2</td>\n      <td>2020-01-01 00:08:02</td>\n      <td>2020-01-01 00:37:03</td>\n      <td>At Clark St/Exit 47A - Accident. Left lane blo...</td>\n      <td>Detroit</td>\n      <td>MI</td>\n    </tr>\n    <tr>\n      <th>1258155</th>\n      <td>A-3759089</td>\n      <td>4</td>\n      <td>2020-01-01 00:31:17</td>\n      <td>2020-01-01 00:59:51</td>\n      <td>Closed at St Barnabas Rd - Road closed due to ...</td>\n      <td>Suitland</td>\n      <td>MD</td>\n    </tr>\n  </tbody>\n</table>\n<p>1258156 rows × 7 columns</p>\n</div>"
     },
     "metadata": {},
     "execution_count": 5
    }
   ],
   "source": [
    "accident_df = accident_df.drop(columns='Unnamed: 0')\n",
    "accident_df"
   ]
  },
  {
   "cell_type": "code",
   "execution_count": 6,
   "metadata": {},
   "outputs": [
    {
     "output_type": "execute_result",
     "data": {
      "text/plain": [
       "<bound method DataFrame.count of            EventId  Type  Severity Weather_Start_Time(UTC)  \\\n",
       "381027   W-1940944   Fog  Moderate     2020-01-07 16:53:00   \n",
       "381028   W-1940945  Snow     Light     2020-01-14 17:43:00   \n",
       "381029   W-1940946  Snow     Light     2020-01-14 20:53:00   \n",
       "381030   W-1940947  Snow     Light     2020-01-27 11:53:00   \n",
       "381031   W-1940948  Snow  Moderate     2020-01-27 14:19:00   \n",
       "...            ...   ...       ...                     ...   \n",
       "1214216  W-6276144  Snow     Light     2020-12-14 17:30:00   \n",
       "1214217  W-6276145  Snow  Moderate     2020-12-15 01:53:00   \n",
       "1214218  W-6276146  Snow     Light     2020-12-15 03:19:00   \n",
       "1214219  W-6276147  Snow     Light     2020-12-23 04:24:00   \n",
       "1214220  W-6276148  Snow     Light     2020-12-23 10:53:00   \n",
       "\n",
       "                EndTime(UTC)     TimeZone AirportCode    City State  \n",
       "381027   2020-01-07 17:53:00  US/Mountain        KLND  Lander    WY  \n",
       "381028   2020-01-14 18:29:00  US/Mountain        KLND  Lander    WY  \n",
       "381029   2020-01-14 21:53:00  US/Mountain        KLND  Lander    WY  \n",
       "381030   2020-01-27 14:19:00  US/Mountain        KLND  Lander    WY  \n",
       "381031   2020-01-27 14:53:00  US/Mountain        KLND  Lander    WY  \n",
       "...                      ...          ...         ...     ...   ...  \n",
       "1214216  2020-12-15 01:53:00  US/Mountain        KBVR  Lander    WY  \n",
       "1214217  2020-12-15 03:19:00  US/Mountain        KBVR  Lander    WY  \n",
       "1214218  2020-12-15 05:53:00  US/Mountain        KBVR  Lander    WY  \n",
       "1214219  2020-12-23 05:53:00  US/Mountain        KBVR  Lander    WY  \n",
       "1214220  2020-12-23 11:26:00  US/Mountain        KBVR  Lander    WY  \n",
       "\n",
       "[578 rows x 9 columns]>"
      ]
     },
     "metadata": {},
     "execution_count": 6
    }
   ],
   "source": [
    "#trim accident_df\n",
    "accident_df_city =  accident_df.loc[accident_df['City'] ==\"Lander\"]\n",
    "weather_df_city.count\n"
   ]
  },
  {
   "cell_type": "code",
   "execution_count": 7,
   "metadata": {},
   "outputs": [
    {
     "output_type": "execute_result",
     "data": {
      "text/plain": [
       "       EventId  Type  Severity Weather_Start_Time(UTC)         EndTime(UTC)  \\\n",
       "0    W-1940944   Fog  Moderate     2020-01-07 16:53:00  2020-01-07 17:53:00   \n",
       "1    W-1940945  Snow     Light     2020-01-14 17:43:00  2020-01-14 18:29:00   \n",
       "2    W-1940946  Snow     Light     2020-01-14 20:53:00  2020-01-14 21:53:00   \n",
       "3    W-1940947  Snow     Light     2020-01-27 11:53:00  2020-01-27 14:19:00   \n",
       "4    W-1940948  Snow  Moderate     2020-01-27 14:19:00  2020-01-27 14:53:00   \n",
       "..         ...   ...       ...                     ...                  ...   \n",
       "573  W-6276144  Snow     Light     2020-12-14 17:30:00  2020-12-15 01:53:00   \n",
       "574  W-6276145  Snow  Moderate     2020-12-15 01:53:00  2020-12-15 03:19:00   \n",
       "575  W-6276146  Snow     Light     2020-12-15 03:19:00  2020-12-15 05:53:00   \n",
       "576  W-6276147  Snow     Light     2020-12-23 04:24:00  2020-12-23 05:53:00   \n",
       "577  W-6276148  Snow     Light     2020-12-23 10:53:00  2020-12-23 11:26:00   \n",
       "\n",
       "        TimeZone AirportCode    City State_x   ID  Accident_Severity  \\\n",
       "0    US/Mountain        KLND  Lander      WY  NaN                NaN   \n",
       "1    US/Mountain        KLND  Lander      WY  NaN                NaN   \n",
       "2    US/Mountain        KLND  Lander      WY  NaN                NaN   \n",
       "3    US/Mountain        KLND  Lander      WY  NaN                NaN   \n",
       "4    US/Mountain        KLND  Lander      WY  NaN                NaN   \n",
       "..           ...         ...     ...     ...  ...                ...   \n",
       "573  US/Mountain        KBVR  Lander      WY  NaN                NaN   \n",
       "574  US/Mountain        KBVR  Lander      WY  NaN                NaN   \n",
       "575  US/Mountain        KBVR  Lander      WY  NaN                NaN   \n",
       "576  US/Mountain        KBVR  Lander      WY  NaN                NaN   \n",
       "577  US/Mountain        KBVR  Lander      WY  NaN                NaN   \n",
       "\n",
       "    Accident_Start_Time Accident_End_Time Description State_y  \n",
       "0                   NaN               NaN         NaN     NaN  \n",
       "1                   NaN               NaN         NaN     NaN  \n",
       "2                   NaN               NaN         NaN     NaN  \n",
       "3                   NaN               NaN         NaN     NaN  \n",
       "4                   NaN               NaN         NaN     NaN  \n",
       "..                  ...               ...         ...     ...  \n",
       "573                 NaN               NaN         NaN     NaN  \n",
       "574                 NaN               NaN         NaN     NaN  \n",
       "575                 NaN               NaN         NaN     NaN  \n",
       "576                 NaN               NaN         NaN     NaN  \n",
       "577                 NaN               NaN         NaN     NaN  \n",
       "\n",
       "[578 rows x 15 columns]"
      ],
      "text/html": "<div>\n<style scoped>\n    .dataframe tbody tr th:only-of-type {\n        vertical-align: middle;\n    }\n\n    .dataframe tbody tr th {\n        vertical-align: top;\n    }\n\n    .dataframe thead th {\n        text-align: right;\n    }\n</style>\n<table border=\"1\" class=\"dataframe\">\n  <thead>\n    <tr style=\"text-align: right;\">\n      <th></th>\n      <th>EventId</th>\n      <th>Type</th>\n      <th>Severity</th>\n      <th>Weather_Start_Time(UTC)</th>\n      <th>EndTime(UTC)</th>\n      <th>TimeZone</th>\n      <th>AirportCode</th>\n      <th>City</th>\n      <th>State_x</th>\n      <th>ID</th>\n      <th>Accident_Severity</th>\n      <th>Accident_Start_Time</th>\n      <th>Accident_End_Time</th>\n      <th>Description</th>\n      <th>State_y</th>\n    </tr>\n  </thead>\n  <tbody>\n    <tr>\n      <th>0</th>\n      <td>W-1940944</td>\n      <td>Fog</td>\n      <td>Moderate</td>\n      <td>2020-01-07 16:53:00</td>\n      <td>2020-01-07 17:53:00</td>\n      <td>US/Mountain</td>\n      <td>KLND</td>\n      <td>Lander</td>\n      <td>WY</td>\n      <td>NaN</td>\n      <td>NaN</td>\n      <td>NaN</td>\n      <td>NaN</td>\n      <td>NaN</td>\n      <td>NaN</td>\n    </tr>\n    <tr>\n      <th>1</th>\n      <td>W-1940945</td>\n      <td>Snow</td>\n      <td>Light</td>\n      <td>2020-01-14 17:43:00</td>\n      <td>2020-01-14 18:29:00</td>\n      <td>US/Mountain</td>\n      <td>KLND</td>\n      <td>Lander</td>\n      <td>WY</td>\n      <td>NaN</td>\n      <td>NaN</td>\n      <td>NaN</td>\n      <td>NaN</td>\n      <td>NaN</td>\n      <td>NaN</td>\n    </tr>\n    <tr>\n      <th>2</th>\n      <td>W-1940946</td>\n      <td>Snow</td>\n      <td>Light</td>\n      <td>2020-01-14 20:53:00</td>\n      <td>2020-01-14 21:53:00</td>\n      <td>US/Mountain</td>\n      <td>KLND</td>\n      <td>Lander</td>\n      <td>WY</td>\n      <td>NaN</td>\n      <td>NaN</td>\n      <td>NaN</td>\n      <td>NaN</td>\n      <td>NaN</td>\n      <td>NaN</td>\n    </tr>\n    <tr>\n      <th>3</th>\n      <td>W-1940947</td>\n      <td>Snow</td>\n      <td>Light</td>\n      <td>2020-01-27 11:53:00</td>\n      <td>2020-01-27 14:19:00</td>\n      <td>US/Mountain</td>\n      <td>KLND</td>\n      <td>Lander</td>\n      <td>WY</td>\n      <td>NaN</td>\n      <td>NaN</td>\n      <td>NaN</td>\n      <td>NaN</td>\n      <td>NaN</td>\n      <td>NaN</td>\n    </tr>\n    <tr>\n      <th>4</th>\n      <td>W-1940948</td>\n      <td>Snow</td>\n      <td>Moderate</td>\n      <td>2020-01-27 14:19:00</td>\n      <td>2020-01-27 14:53:00</td>\n      <td>US/Mountain</td>\n      <td>KLND</td>\n      <td>Lander</td>\n      <td>WY</td>\n      <td>NaN</td>\n      <td>NaN</td>\n      <td>NaN</td>\n      <td>NaN</td>\n      <td>NaN</td>\n      <td>NaN</td>\n    </tr>\n    <tr>\n      <th>...</th>\n      <td>...</td>\n      <td>...</td>\n      <td>...</td>\n      <td>...</td>\n      <td>...</td>\n      <td>...</td>\n      <td>...</td>\n      <td>...</td>\n      <td>...</td>\n      <td>...</td>\n      <td>...</td>\n      <td>...</td>\n      <td>...</td>\n      <td>...</td>\n      <td>...</td>\n    </tr>\n    <tr>\n      <th>573</th>\n      <td>W-6276144</td>\n      <td>Snow</td>\n      <td>Light</td>\n      <td>2020-12-14 17:30:00</td>\n      <td>2020-12-15 01:53:00</td>\n      <td>US/Mountain</td>\n      <td>KBVR</td>\n      <td>Lander</td>\n      <td>WY</td>\n      <td>NaN</td>\n      <td>NaN</td>\n      <td>NaN</td>\n      <td>NaN</td>\n      <td>NaN</td>\n      <td>NaN</td>\n    </tr>\n    <tr>\n      <th>574</th>\n      <td>W-6276145</td>\n      <td>Snow</td>\n      <td>Moderate</td>\n      <td>2020-12-15 01:53:00</td>\n      <td>2020-12-15 03:19:00</td>\n      <td>US/Mountain</td>\n      <td>KBVR</td>\n      <td>Lander</td>\n      <td>WY</td>\n      <td>NaN</td>\n      <td>NaN</td>\n      <td>NaN</td>\n      <td>NaN</td>\n      <td>NaN</td>\n      <td>NaN</td>\n    </tr>\n    <tr>\n      <th>575</th>\n      <td>W-6276146</td>\n      <td>Snow</td>\n      <td>Light</td>\n      <td>2020-12-15 03:19:00</td>\n      <td>2020-12-15 05:53:00</td>\n      <td>US/Mountain</td>\n      <td>KBVR</td>\n      <td>Lander</td>\n      <td>WY</td>\n      <td>NaN</td>\n      <td>NaN</td>\n      <td>NaN</td>\n      <td>NaN</td>\n      <td>NaN</td>\n      <td>NaN</td>\n    </tr>\n    <tr>\n      <th>576</th>\n      <td>W-6276147</td>\n      <td>Snow</td>\n      <td>Light</td>\n      <td>2020-12-23 04:24:00</td>\n      <td>2020-12-23 05:53:00</td>\n      <td>US/Mountain</td>\n      <td>KBVR</td>\n      <td>Lander</td>\n      <td>WY</td>\n      <td>NaN</td>\n      <td>NaN</td>\n      <td>NaN</td>\n      <td>NaN</td>\n      <td>NaN</td>\n      <td>NaN</td>\n    </tr>\n    <tr>\n      <th>577</th>\n      <td>W-6276148</td>\n      <td>Snow</td>\n      <td>Light</td>\n      <td>2020-12-23 10:53:00</td>\n      <td>2020-12-23 11:26:00</td>\n      <td>US/Mountain</td>\n      <td>KBVR</td>\n      <td>Lander</td>\n      <td>WY</td>\n      <td>NaN</td>\n      <td>NaN</td>\n      <td>NaN</td>\n      <td>NaN</td>\n      <td>NaN</td>\n      <td>NaN</td>\n    </tr>\n  </tbody>\n</table>\n<p>578 rows × 15 columns</p>\n</div>"
     },
     "metadata": {},
     "execution_count": 7
    }
   ],
   "source": [
    "#DataFrame.merge(right, how='inner', on=None\n",
    "combined_df_city = weather_df_city.merge(accident_df_city,how='outer', on = 'City')\n",
    "#combined_df_city = pd.merge(weather_df_city, accident_df_city, on='City', how='inner')\n",
    "combined_df_city"
   ]
  },
  {
   "cell_type": "code",
   "execution_count": 8,
   "metadata": {},
   "outputs": [],
   "source": [
    "# Drop state_y from the DataFrame \n",
    "combined_df_city.drop(columns=['State_y'], inplace=True)\n",
    "\n",
    "# Change State_x name to State\n",
    "combined_df_city.rename(columns={'State_x':'State'}, inplace=True)"
   ]
  },
  {
   "cell_type": "code",
   "execution_count": 9,
   "metadata": {},
   "outputs": [
    {
     "output_type": "execute_result",
     "data": {
      "text/plain": [
       "       EventId  Type  Severity Weather_Start_Time(UTC)         EndTime(UTC)  \\\n",
       "0    W-1940944   Fog  Moderate     2020-01-07 16:53:00  2020-01-07 17:53:00   \n",
       "1    W-1940945  Snow     Light     2020-01-14 17:43:00  2020-01-14 18:29:00   \n",
       "2    W-1940946  Snow     Light     2020-01-14 20:53:00  2020-01-14 21:53:00   \n",
       "3    W-1940947  Snow     Light     2020-01-27 11:53:00  2020-01-27 14:19:00   \n",
       "4    W-1940948  Snow  Moderate     2020-01-27 14:19:00  2020-01-27 14:53:00   \n",
       "..         ...   ...       ...                     ...                  ...   \n",
       "573  W-6276144  Snow     Light     2020-12-14 17:30:00  2020-12-15 01:53:00   \n",
       "574  W-6276145  Snow  Moderate     2020-12-15 01:53:00  2020-12-15 03:19:00   \n",
       "575  W-6276146  Snow     Light     2020-12-15 03:19:00  2020-12-15 05:53:00   \n",
       "576  W-6276147  Snow     Light     2020-12-23 04:24:00  2020-12-23 05:53:00   \n",
       "577  W-6276148  Snow     Light     2020-12-23 10:53:00  2020-12-23 11:26:00   \n",
       "\n",
       "        TimeZone AirportCode    City State   ID  Accident_Severity  \\\n",
       "0    US/Mountain        KLND  Lander    WY  NaN                NaN   \n",
       "1    US/Mountain        KLND  Lander    WY  NaN                NaN   \n",
       "2    US/Mountain        KLND  Lander    WY  NaN                NaN   \n",
       "3    US/Mountain        KLND  Lander    WY  NaN                NaN   \n",
       "4    US/Mountain        KLND  Lander    WY  NaN                NaN   \n",
       "..           ...         ...     ...   ...  ...                ...   \n",
       "573  US/Mountain        KBVR  Lander    WY  NaN                NaN   \n",
       "574  US/Mountain        KBVR  Lander    WY  NaN                NaN   \n",
       "575  US/Mountain        KBVR  Lander    WY  NaN                NaN   \n",
       "576  US/Mountain        KBVR  Lander    WY  NaN                NaN   \n",
       "577  US/Mountain        KBVR  Lander    WY  NaN                NaN   \n",
       "\n",
       "    Accident_Start_Time Accident_End_Time Description  \n",
       "0                   NaN               NaN         NaN  \n",
       "1                   NaN               NaN         NaN  \n",
       "2                   NaN               NaN         NaN  \n",
       "3                   NaN               NaN         NaN  \n",
       "4                   NaN               NaN         NaN  \n",
       "..                  ...               ...         ...  \n",
       "573                 NaN               NaN         NaN  \n",
       "574                 NaN               NaN         NaN  \n",
       "575                 NaN               NaN         NaN  \n",
       "576                 NaN               NaN         NaN  \n",
       "577                 NaN               NaN         NaN  \n",
       "\n",
       "[578 rows x 14 columns]"
      ],
      "text/html": "<div>\n<style scoped>\n    .dataframe tbody tr th:only-of-type {\n        vertical-align: middle;\n    }\n\n    .dataframe tbody tr th {\n        vertical-align: top;\n    }\n\n    .dataframe thead th {\n        text-align: right;\n    }\n</style>\n<table border=\"1\" class=\"dataframe\">\n  <thead>\n    <tr style=\"text-align: right;\">\n      <th></th>\n      <th>EventId</th>\n      <th>Type</th>\n      <th>Severity</th>\n      <th>Weather_Start_Time(UTC)</th>\n      <th>EndTime(UTC)</th>\n      <th>TimeZone</th>\n      <th>AirportCode</th>\n      <th>City</th>\n      <th>State</th>\n      <th>ID</th>\n      <th>Accident_Severity</th>\n      <th>Accident_Start_Time</th>\n      <th>Accident_End_Time</th>\n      <th>Description</th>\n    </tr>\n  </thead>\n  <tbody>\n    <tr>\n      <th>0</th>\n      <td>W-1940944</td>\n      <td>Fog</td>\n      <td>Moderate</td>\n      <td>2020-01-07 16:53:00</td>\n      <td>2020-01-07 17:53:00</td>\n      <td>US/Mountain</td>\n      <td>KLND</td>\n      <td>Lander</td>\n      <td>WY</td>\n      <td>NaN</td>\n      <td>NaN</td>\n      <td>NaN</td>\n      <td>NaN</td>\n      <td>NaN</td>\n    </tr>\n    <tr>\n      <th>1</th>\n      <td>W-1940945</td>\n      <td>Snow</td>\n      <td>Light</td>\n      <td>2020-01-14 17:43:00</td>\n      <td>2020-01-14 18:29:00</td>\n      <td>US/Mountain</td>\n      <td>KLND</td>\n      <td>Lander</td>\n      <td>WY</td>\n      <td>NaN</td>\n      <td>NaN</td>\n      <td>NaN</td>\n      <td>NaN</td>\n      <td>NaN</td>\n    </tr>\n    <tr>\n      <th>2</th>\n      <td>W-1940946</td>\n      <td>Snow</td>\n      <td>Light</td>\n      <td>2020-01-14 20:53:00</td>\n      <td>2020-01-14 21:53:00</td>\n      <td>US/Mountain</td>\n      <td>KLND</td>\n      <td>Lander</td>\n      <td>WY</td>\n      <td>NaN</td>\n      <td>NaN</td>\n      <td>NaN</td>\n      <td>NaN</td>\n      <td>NaN</td>\n    </tr>\n    <tr>\n      <th>3</th>\n      <td>W-1940947</td>\n      <td>Snow</td>\n      <td>Light</td>\n      <td>2020-01-27 11:53:00</td>\n      <td>2020-01-27 14:19:00</td>\n      <td>US/Mountain</td>\n      <td>KLND</td>\n      <td>Lander</td>\n      <td>WY</td>\n      <td>NaN</td>\n      <td>NaN</td>\n      <td>NaN</td>\n      <td>NaN</td>\n      <td>NaN</td>\n    </tr>\n    <tr>\n      <th>4</th>\n      <td>W-1940948</td>\n      <td>Snow</td>\n      <td>Moderate</td>\n      <td>2020-01-27 14:19:00</td>\n      <td>2020-01-27 14:53:00</td>\n      <td>US/Mountain</td>\n      <td>KLND</td>\n      <td>Lander</td>\n      <td>WY</td>\n      <td>NaN</td>\n      <td>NaN</td>\n      <td>NaN</td>\n      <td>NaN</td>\n      <td>NaN</td>\n    </tr>\n    <tr>\n      <th>...</th>\n      <td>...</td>\n      <td>...</td>\n      <td>...</td>\n      <td>...</td>\n      <td>...</td>\n      <td>...</td>\n      <td>...</td>\n      <td>...</td>\n      <td>...</td>\n      <td>...</td>\n      <td>...</td>\n      <td>...</td>\n      <td>...</td>\n      <td>...</td>\n    </tr>\n    <tr>\n      <th>573</th>\n      <td>W-6276144</td>\n      <td>Snow</td>\n      <td>Light</td>\n      <td>2020-12-14 17:30:00</td>\n      <td>2020-12-15 01:53:00</td>\n      <td>US/Mountain</td>\n      <td>KBVR</td>\n      <td>Lander</td>\n      <td>WY</td>\n      <td>NaN</td>\n      <td>NaN</td>\n      <td>NaN</td>\n      <td>NaN</td>\n      <td>NaN</td>\n    </tr>\n    <tr>\n      <th>574</th>\n      <td>W-6276145</td>\n      <td>Snow</td>\n      <td>Moderate</td>\n      <td>2020-12-15 01:53:00</td>\n      <td>2020-12-15 03:19:00</td>\n      <td>US/Mountain</td>\n      <td>KBVR</td>\n      <td>Lander</td>\n      <td>WY</td>\n      <td>NaN</td>\n      <td>NaN</td>\n      <td>NaN</td>\n      <td>NaN</td>\n      <td>NaN</td>\n    </tr>\n    <tr>\n      <th>575</th>\n      <td>W-6276146</td>\n      <td>Snow</td>\n      <td>Light</td>\n      <td>2020-12-15 03:19:00</td>\n      <td>2020-12-15 05:53:00</td>\n      <td>US/Mountain</td>\n      <td>KBVR</td>\n      <td>Lander</td>\n      <td>WY</td>\n      <td>NaN</td>\n      <td>NaN</td>\n      <td>NaN</td>\n      <td>NaN</td>\n      <td>NaN</td>\n    </tr>\n    <tr>\n      <th>576</th>\n      <td>W-6276147</td>\n      <td>Snow</td>\n      <td>Light</td>\n      <td>2020-12-23 04:24:00</td>\n      <td>2020-12-23 05:53:00</td>\n      <td>US/Mountain</td>\n      <td>KBVR</td>\n      <td>Lander</td>\n      <td>WY</td>\n      <td>NaN</td>\n      <td>NaN</td>\n      <td>NaN</td>\n      <td>NaN</td>\n      <td>NaN</td>\n    </tr>\n    <tr>\n      <th>577</th>\n      <td>W-6276148</td>\n      <td>Snow</td>\n      <td>Light</td>\n      <td>2020-12-23 10:53:00</td>\n      <td>2020-12-23 11:26:00</td>\n      <td>US/Mountain</td>\n      <td>KBVR</td>\n      <td>Lander</td>\n      <td>WY</td>\n      <td>NaN</td>\n      <td>NaN</td>\n      <td>NaN</td>\n      <td>NaN</td>\n      <td>NaN</td>\n    </tr>\n  </tbody>\n</table>\n<p>578 rows × 14 columns</p>\n</div>"
     },
     "metadata": {},
     "execution_count": 9
    }
   ],
   "source": [
    "combined_df_city"
   ]
  },
  {
   "cell_type": "code",
   "execution_count": 11,
   "metadata": {},
   "outputs": [],
   "source": [
    "combined_df_city.to_csv('resources/final_df.csv')"
   ]
  },
  {
   "cell_type": "code",
   "execution_count": null,
   "metadata": {},
   "outputs": [],
   "source": []
  }
 ],
 "metadata": {
  "kernelspec": {
   "name": "python3",
   "display_name": "Python 3.6.10 64-bit ('PythonData': conda)",
   "metadata": {
    "interpreter": {
     "hash": "9093931be169533ad0f0dd76f55650949bcb45b2ed14d0b34b011d6ae005ebd8"
    }
   }
  },
  "language_info": {
   "codemirror_mode": {
    "name": "ipython",
    "version": 3
   },
   "file_extension": ".py",
   "mimetype": "text/x-python",
   "name": "python",
   "nbconvert_exporter": "python",
   "pygments_lexer": "ipython3",
   "version": "3.6.10-final"
  }
 },
 "nbformat": 4,
 "nbformat_minor": 4
}