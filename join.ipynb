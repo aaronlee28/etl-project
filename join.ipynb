{
 "cells": [
  {
   "cell_type": "code",
   "execution_count": 1,
   "metadata": {},
   "outputs": [],
   "source": [
    "import pandas as pd\n"
   ]
  },
  {
   "cell_type": "code",
   "execution_count": 2,
   "metadata": {},
   "outputs": [],
   "source": [
    "weather_df = pd.read_csv(\"resources/clean_us_weather.csv\")\n",
    "accident_df = pd.read_csv(\"resources/clean_us_accident.csv\")"
   ]
  },
  {
   "cell_type": "code",
   "execution_count": 3,
   "metadata": {},
   "outputs": [
    {
     "output_type": "execute_result",
     "data": {
      "text/plain": [
       "   Unnamed: 0 EventId  Type Severity Weather_Start_Time(UTC)  \\\n",
       "0        1721  W-1722  Snow    Light     2020-01-01 19:30:00   \n",
       "1        1722  W-1723  Snow    Light     2020-01-02 00:32:00   \n",
       "2        1723  W-1724  Snow    Light     2020-01-02 01:12:00   \n",
       "3        1724  W-1725  Snow    Light     2020-01-02 04:12:00   \n",
       "4        1725  W-1726  Snow    Light     2020-01-02 05:30:00   \n",
       "\n",
       "          EndTime(UTC)     TimeZone AirportCode      City State  \n",
       "0  2020-01-01 22:12:00  US/Mountain        K04V  Saguache    CO  \n",
       "1  2020-01-02 00:50:00  US/Mountain        K04V  Saguache    CO  \n",
       "2  2020-01-02 01:30:00  US/Mountain        K04V  Saguache    CO  \n",
       "3  2020-01-02 04:30:00  US/Mountain        K04V  Saguache    CO  \n",
       "4  2020-01-02 06:12:00  US/Mountain        K04V  Saguache    CO  "
      ],
      "text/html": "<div>\n<style scoped>\n    .dataframe tbody tr th:only-of-type {\n        vertical-align: middle;\n    }\n\n    .dataframe tbody tr th {\n        vertical-align: top;\n    }\n\n    .dataframe thead th {\n        text-align: right;\n    }\n</style>\n<table border=\"1\" class=\"dataframe\">\n  <thead>\n    <tr style=\"text-align: right;\">\n      <th></th>\n      <th>Unnamed: 0</th>\n      <th>EventId</th>\n      <th>Type</th>\n      <th>Severity</th>\n      <th>Weather_Start_Time(UTC)</th>\n      <th>EndTime(UTC)</th>\n      <th>TimeZone</th>\n      <th>AirportCode</th>\n      <th>City</th>\n      <th>State</th>\n    </tr>\n  </thead>\n  <tbody>\n    <tr>\n      <th>0</th>\n      <td>1721</td>\n      <td>W-1722</td>\n      <td>Snow</td>\n      <td>Light</td>\n      <td>2020-01-01 19:30:00</td>\n      <td>2020-01-01 22:12:00</td>\n      <td>US/Mountain</td>\n      <td>K04V</td>\n      <td>Saguache</td>\n      <td>CO</td>\n    </tr>\n    <tr>\n      <th>1</th>\n      <td>1722</td>\n      <td>W-1723</td>\n      <td>Snow</td>\n      <td>Light</td>\n      <td>2020-01-02 00:32:00</td>\n      <td>2020-01-02 00:50:00</td>\n      <td>US/Mountain</td>\n      <td>K04V</td>\n      <td>Saguache</td>\n      <td>CO</td>\n    </tr>\n    <tr>\n      <th>2</th>\n      <td>1723</td>\n      <td>W-1724</td>\n      <td>Snow</td>\n      <td>Light</td>\n      <td>2020-01-02 01:12:00</td>\n      <td>2020-01-02 01:30:00</td>\n      <td>US/Mountain</td>\n      <td>K04V</td>\n      <td>Saguache</td>\n      <td>CO</td>\n    </tr>\n    <tr>\n      <th>3</th>\n      <td>1724</td>\n      <td>W-1725</td>\n      <td>Snow</td>\n      <td>Light</td>\n      <td>2020-01-02 04:12:00</td>\n      <td>2020-01-02 04:30:00</td>\n      <td>US/Mountain</td>\n      <td>K04V</td>\n      <td>Saguache</td>\n      <td>CO</td>\n    </tr>\n    <tr>\n      <th>4</th>\n      <td>1725</td>\n      <td>W-1726</td>\n      <td>Snow</td>\n      <td>Light</td>\n      <td>2020-01-02 05:30:00</td>\n      <td>2020-01-02 06:12:00</td>\n      <td>US/Mountain</td>\n      <td>K04V</td>\n      <td>Saguache</td>\n      <td>CO</td>\n    </tr>\n  </tbody>\n</table>\n</div>"
     },
     "metadata": {},
     "execution_count": 3
    }
   ],
   "source": [
    "weather_df.head()"
   ]
  },
  {
   "cell_type": "code",
   "execution_count": 4,
   "metadata": {},
   "outputs": [
    {
     "output_type": "execute_result",
     "data": {
      "text/plain": [
       "   Unnamed: 0        ID  Accident_Severity  Accident_Start_Time  \\\n",
       "0      512217  A-512230                  2  2020-12-31 10:47:49   \n",
       "1      512218  A-512231                  2  2020-12-31 13:24:43   \n",
       "2      512219  A-512232                  3  2020-12-31 13:29:34   \n",
       "3      512220  A-512233                  2  2020-12-31 04:35:33   \n",
       "4      512221  A-512234                  2  2020-12-31 05:11:11   \n",
       "\n",
       "     Accident_End_Time                                        Description  \\\n",
       "0  2020-12-31 12:19:16  Accident on Day Rd near CR-7 Slayton Settlemen...   \n",
       "1  2020-12-31 13:54:32               Accident on Oliver St at Schenck St.   \n",
       "2  2020-12-31 14:59:19                Accident on I-90 Westbound at NY-5.   \n",
       "3  2020-12-31 05:35:36       Accident on Storrow Dr inbound near S Curve.   \n",
       "4  2020-12-31 07:00:16            Accident on Lincoln St at Cambridge St.   \n",
       "\n",
       "              City State  \n",
       "0         Lockport    NY  \n",
       "1  North Tonawanda    NY  \n",
       "2     Silver Creek    NY  \n",
       "3           Boston    MA  \n",
       "4          Allston    MA  "
      ],
      "text/html": "<div>\n<style scoped>\n    .dataframe tbody tr th:only-of-type {\n        vertical-align: middle;\n    }\n\n    .dataframe tbody tr th {\n        vertical-align: top;\n    }\n\n    .dataframe thead th {\n        text-align: right;\n    }\n</style>\n<table border=\"1\" class=\"dataframe\">\n  <thead>\n    <tr style=\"text-align: right;\">\n      <th></th>\n      <th>Unnamed: 0</th>\n      <th>ID</th>\n      <th>Accident_Severity</th>\n      <th>Accident_Start_Time</th>\n      <th>Accident_End_Time</th>\n      <th>Description</th>\n      <th>City</th>\n      <th>State</th>\n    </tr>\n  </thead>\n  <tbody>\n    <tr>\n      <th>0</th>\n      <td>512217</td>\n      <td>A-512230</td>\n      <td>2</td>\n      <td>2020-12-31 10:47:49</td>\n      <td>2020-12-31 12:19:16</td>\n      <td>Accident on Day Rd near CR-7 Slayton Settlemen...</td>\n      <td>Lockport</td>\n      <td>NY</td>\n    </tr>\n    <tr>\n      <th>1</th>\n      <td>512218</td>\n      <td>A-512231</td>\n      <td>2</td>\n      <td>2020-12-31 13:24:43</td>\n      <td>2020-12-31 13:54:32</td>\n      <td>Accident on Oliver St at Schenck St.</td>\n      <td>North Tonawanda</td>\n      <td>NY</td>\n    </tr>\n    <tr>\n      <th>2</th>\n      <td>512219</td>\n      <td>A-512232</td>\n      <td>3</td>\n      <td>2020-12-31 13:29:34</td>\n      <td>2020-12-31 14:59:19</td>\n      <td>Accident on I-90 Westbound at NY-5.</td>\n      <td>Silver Creek</td>\n      <td>NY</td>\n    </tr>\n    <tr>\n      <th>3</th>\n      <td>512220</td>\n      <td>A-512233</td>\n      <td>2</td>\n      <td>2020-12-31 04:35:33</td>\n      <td>2020-12-31 05:35:36</td>\n      <td>Accident on Storrow Dr inbound near S Curve.</td>\n      <td>Boston</td>\n      <td>MA</td>\n    </tr>\n    <tr>\n      <th>4</th>\n      <td>512221</td>\n      <td>A-512234</td>\n      <td>2</td>\n      <td>2020-12-31 05:11:11</td>\n      <td>2020-12-31 07:00:16</td>\n      <td>Accident on Lincoln St at Cambridge St.</td>\n      <td>Allston</td>\n      <td>MA</td>\n    </tr>\n  </tbody>\n</table>\n</div>"
     },
     "metadata": {},
     "execution_count": 4
    }
   ],
   "source": [
    "accident_df.head()"
   ]
  },
  {
   "cell_type": "code",
   "execution_count": 5,
   "metadata": {},
   "outputs": [],
   "source": [
    "weather_df = weather_df.drop(columns='Unnamed: 0')\n",
    "accident_df = accident_df.drop(columns='Unnamed: 0')"
   ]
  },
  {
   "cell_type": "code",
   "execution_count": 6,
   "metadata": {},
   "outputs": [],
   "source": [
    "date = weather_df['Weather_Start_Time(UTC)'].str.split(\" \", n=1, expand=True)\n",
    "x = date[0]"
   ]
  },
  {
   "cell_type": "code",
   "execution_count": 7,
   "metadata": {},
   "outputs": [],
   "source": [
    "weather_df['date'] = x "
   ]
  },
  {
   "cell_type": "code",
   "execution_count": 8,
   "metadata": {},
   "outputs": [],
   "source": [
    "weather_df.drop(columns=['Weather_Start_Time(UTC)', 'EndTime(UTC)'], inplace=True)"
   ]
  },
  {
   "cell_type": "code",
   "execution_count": 9,
   "metadata": {},
   "outputs": [
    {
     "output_type": "execute_result",
     "data": {
      "text/plain": [
       "       EventId  Type  Severity     TimeZone AirportCode        City State  \\\n",
       "0       W-1722  Snow     Light  US/Mountain        K04V    Saguache    CO   \n",
       "1       W-1723  Snow     Light  US/Mountain        K04V    Saguache    CO   \n",
       "7       W-1729  Snow     Light  US/Mountain        K04V    Saguache    CO   \n",
       "8       W-1730  Snow     Light  US/Mountain        K04V    Saguache    CO   \n",
       "9       W-1731   Fog    Severe  US/Mountain        K04V    Saguache    CO   \n",
       "...        ...   ...       ...          ...         ...         ...   ...   \n",
       "6093   W-33616   Fog    Severe   US/Eastern        KPSF  Pittsfield    MA   \n",
       "6096   W-33619  Rain     Light   US/Eastern        KPSF  Pittsfield    MA   \n",
       "6100   W-33623  Snow     Light   US/Eastern        KPSF  Pittsfield    MA   \n",
       "7517   W-41187  Rain  Moderate   US/Eastern        KNBT       Davis    NC   \n",
       "14714  W-73577   Fog    Severe   US/Pacific        KSPB   Scappoose    OR   \n",
       "\n",
       "             date  \n",
       "0      2020-01-01  \n",
       "1      2020-01-02  \n",
       "7      2020-01-10  \n",
       "8      2020-01-12  \n",
       "9      2020-01-17  \n",
       "...           ...  \n",
       "6093   2020-10-31  \n",
       "6096   2020-11-02  \n",
       "6100   2020-11-03  \n",
       "7517   2020-02-21  \n",
       "14714  2020-11-04  \n",
       "\n",
       "[366 rows x 8 columns]"
      ],
      "text/html": "<div>\n<style scoped>\n    .dataframe tbody tr th:only-of-type {\n        vertical-align: middle;\n    }\n\n    .dataframe tbody tr th {\n        vertical-align: top;\n    }\n\n    .dataframe thead th {\n        text-align: right;\n    }\n</style>\n<table border=\"1\" class=\"dataframe\">\n  <thead>\n    <tr style=\"text-align: right;\">\n      <th></th>\n      <th>EventId</th>\n      <th>Type</th>\n      <th>Severity</th>\n      <th>TimeZone</th>\n      <th>AirportCode</th>\n      <th>City</th>\n      <th>State</th>\n      <th>date</th>\n    </tr>\n  </thead>\n  <tbody>\n    <tr>\n      <th>0</th>\n      <td>W-1722</td>\n      <td>Snow</td>\n      <td>Light</td>\n      <td>US/Mountain</td>\n      <td>K04V</td>\n      <td>Saguache</td>\n      <td>CO</td>\n      <td>2020-01-01</td>\n    </tr>\n    <tr>\n      <th>1</th>\n      <td>W-1723</td>\n      <td>Snow</td>\n      <td>Light</td>\n      <td>US/Mountain</td>\n      <td>K04V</td>\n      <td>Saguache</td>\n      <td>CO</td>\n      <td>2020-01-02</td>\n    </tr>\n    <tr>\n      <th>7</th>\n      <td>W-1729</td>\n      <td>Snow</td>\n      <td>Light</td>\n      <td>US/Mountain</td>\n      <td>K04V</td>\n      <td>Saguache</td>\n      <td>CO</td>\n      <td>2020-01-10</td>\n    </tr>\n    <tr>\n      <th>8</th>\n      <td>W-1730</td>\n      <td>Snow</td>\n      <td>Light</td>\n      <td>US/Mountain</td>\n      <td>K04V</td>\n      <td>Saguache</td>\n      <td>CO</td>\n      <td>2020-01-12</td>\n    </tr>\n    <tr>\n      <th>9</th>\n      <td>W-1731</td>\n      <td>Fog</td>\n      <td>Severe</td>\n      <td>US/Mountain</td>\n      <td>K04V</td>\n      <td>Saguache</td>\n      <td>CO</td>\n      <td>2020-01-17</td>\n    </tr>\n    <tr>\n      <th>...</th>\n      <td>...</td>\n      <td>...</td>\n      <td>...</td>\n      <td>...</td>\n      <td>...</td>\n      <td>...</td>\n      <td>...</td>\n      <td>...</td>\n    </tr>\n    <tr>\n      <th>6093</th>\n      <td>W-33616</td>\n      <td>Fog</td>\n      <td>Severe</td>\n      <td>US/Eastern</td>\n      <td>KPSF</td>\n      <td>Pittsfield</td>\n      <td>MA</td>\n      <td>2020-10-31</td>\n    </tr>\n    <tr>\n      <th>6096</th>\n      <td>W-33619</td>\n      <td>Rain</td>\n      <td>Light</td>\n      <td>US/Eastern</td>\n      <td>KPSF</td>\n      <td>Pittsfield</td>\n      <td>MA</td>\n      <td>2020-11-02</td>\n    </tr>\n    <tr>\n      <th>6100</th>\n      <td>W-33623</td>\n      <td>Snow</td>\n      <td>Light</td>\n      <td>US/Eastern</td>\n      <td>KPSF</td>\n      <td>Pittsfield</td>\n      <td>MA</td>\n      <td>2020-11-03</td>\n    </tr>\n    <tr>\n      <th>7517</th>\n      <td>W-41187</td>\n      <td>Rain</td>\n      <td>Moderate</td>\n      <td>US/Eastern</td>\n      <td>KNBT</td>\n      <td>Davis</td>\n      <td>NC</td>\n      <td>2020-02-21</td>\n    </tr>\n    <tr>\n      <th>14714</th>\n      <td>W-73577</td>\n      <td>Fog</td>\n      <td>Severe</td>\n      <td>US/Pacific</td>\n      <td>KSPB</td>\n      <td>Scappoose</td>\n      <td>OR</td>\n      <td>2020-11-04</td>\n    </tr>\n  </tbody>\n</table>\n<p>366 rows × 8 columns</p>\n</div>"
     },
     "metadata": {},
     "execution_count": 9
    }
   ],
   "source": [
    "weather_df.drop_duplicates(subset=['date'], inplace=True)\n",
    "weather_df"
   ]
  },
  {
   "cell_type": "code",
   "execution_count": 10,
   "metadata": {},
   "outputs": [],
   "source": [
    "date2 = accident_df['Accident_Start_Time'].str.split(\" \", n=1, expand=True)\n",
    "x = date2[0]"
   ]
  },
  {
   "cell_type": "code",
   "execution_count": 11,
   "metadata": {},
   "outputs": [],
   "source": [
    "accident_df['date'] = x "
   ]
  },
  {
   "cell_type": "code",
   "execution_count": 12,
   "metadata": {},
   "outputs": [],
   "source": [
    "accident_df.drop(columns=['Accident_Start_Time', 'Accident_End_Time'], inplace=True)"
   ]
  },
  {
   "cell_type": "code",
   "execution_count": 13,
   "metadata": {},
   "outputs": [
    {
     "output_type": "execute_result",
     "data": {
      "text/plain": [
       "                ID  Accident_Severity  \\\n",
       "0         A-512230                  2   \n",
       "76        A-512307                  3   \n",
       "1483      A-513719                  4   \n",
       "4018      A-516254                  2   \n",
       "4560      A-516796                  3   \n",
       "...            ...                ...   \n",
       "470317   A-2954032                  2   \n",
       "806164   A-3294664                  2   \n",
       "1115336  A-3605758                  2   \n",
       "1116428  A-3606850                  2   \n",
       "1118015  A-3608437                  3   \n",
       "\n",
       "                                               Description  \\\n",
       "0        Accident on Day Rd near CR-7 Slayton Settlemen...   \n",
       "76       Two lanes blocked due to accident on I-278 Bro...   \n",
       "1483     Lane blocked due to accident on I-380 Northbou...   \n",
       "4018     Left lane blocked due to accident on WA-520 We...   \n",
       "4560     Entry ramp closed due to incident on Port Miam...   \n",
       "...                                                    ...   \n",
       "470317   I5 S BIRMINGHAM NO. 504C; MAKE 1185 - 3A NEG O...   \n",
       "806164       Incident on SC-183 near SC-253 Expect delays.   \n",
       "1115336  At IN-243/Exit 37 - Accident. Right lane blocked.   \n",
       "1116428            At VT-73 - Accident. Right lane closed.   \n",
       "1118015  At Lewis St - Overturned vehicle. Left lane bl...   \n",
       "\n",
       "                       City State        date  \n",
       "0                  Lockport    NY  2020-12-31  \n",
       "76                 Brooklyn    NY  2020-12-30  \n",
       "1483                 Moscow    PA  2020-12-29  \n",
       "4018                Seattle    WA  2020-12-28  \n",
       "4560                  Miami    FL  2020-12-27  \n",
       "...                     ...   ...         ...  \n",
       "470317   Cardiff By the Sea    CA  2020-12-04  \n",
       "806164           Greenville    SC  2020-05-04  \n",
       "1115336          Reelsville    IN  2020-03-29  \n",
       "1116428             Brandon    VT  2020-03-30  \n",
       "1118015        Indianapolis    IN  2020-03-31  \n",
       "\n",
       "[366 rows x 6 columns]"
      ],
      "text/html": "<div>\n<style scoped>\n    .dataframe tbody tr th:only-of-type {\n        vertical-align: middle;\n    }\n\n    .dataframe tbody tr th {\n        vertical-align: top;\n    }\n\n    .dataframe thead th {\n        text-align: right;\n    }\n</style>\n<table border=\"1\" class=\"dataframe\">\n  <thead>\n    <tr style=\"text-align: right;\">\n      <th></th>\n      <th>ID</th>\n      <th>Accident_Severity</th>\n      <th>Description</th>\n      <th>City</th>\n      <th>State</th>\n      <th>date</th>\n    </tr>\n  </thead>\n  <tbody>\n    <tr>\n      <th>0</th>\n      <td>A-512230</td>\n      <td>2</td>\n      <td>Accident on Day Rd near CR-7 Slayton Settlemen...</td>\n      <td>Lockport</td>\n      <td>NY</td>\n      <td>2020-12-31</td>\n    </tr>\n    <tr>\n      <th>76</th>\n      <td>A-512307</td>\n      <td>3</td>\n      <td>Two lanes blocked due to accident on I-278 Bro...</td>\n      <td>Brooklyn</td>\n      <td>NY</td>\n      <td>2020-12-30</td>\n    </tr>\n    <tr>\n      <th>1483</th>\n      <td>A-513719</td>\n      <td>4</td>\n      <td>Lane blocked due to accident on I-380 Northbou...</td>\n      <td>Moscow</td>\n      <td>PA</td>\n      <td>2020-12-29</td>\n    </tr>\n    <tr>\n      <th>4018</th>\n      <td>A-516254</td>\n      <td>2</td>\n      <td>Left lane blocked due to accident on WA-520 We...</td>\n      <td>Seattle</td>\n      <td>WA</td>\n      <td>2020-12-28</td>\n    </tr>\n    <tr>\n      <th>4560</th>\n      <td>A-516796</td>\n      <td>3</td>\n      <td>Entry ramp closed due to incident on Port Miam...</td>\n      <td>Miami</td>\n      <td>FL</td>\n      <td>2020-12-27</td>\n    </tr>\n    <tr>\n      <th>...</th>\n      <td>...</td>\n      <td>...</td>\n      <td>...</td>\n      <td>...</td>\n      <td>...</td>\n      <td>...</td>\n    </tr>\n    <tr>\n      <th>470317</th>\n      <td>A-2954032</td>\n      <td>2</td>\n      <td>I5 S BIRMINGHAM NO. 504C; MAKE 1185 - 3A NEG O...</td>\n      <td>Cardiff By the Sea</td>\n      <td>CA</td>\n      <td>2020-12-04</td>\n    </tr>\n    <tr>\n      <th>806164</th>\n      <td>A-3294664</td>\n      <td>2</td>\n      <td>Incident on SC-183 near SC-253 Expect delays.</td>\n      <td>Greenville</td>\n      <td>SC</td>\n      <td>2020-05-04</td>\n    </tr>\n    <tr>\n      <th>1115336</th>\n      <td>A-3605758</td>\n      <td>2</td>\n      <td>At IN-243/Exit 37 - Accident. Right lane blocked.</td>\n      <td>Reelsville</td>\n      <td>IN</td>\n      <td>2020-03-29</td>\n    </tr>\n    <tr>\n      <th>1116428</th>\n      <td>A-3606850</td>\n      <td>2</td>\n      <td>At VT-73 - Accident. Right lane closed.</td>\n      <td>Brandon</td>\n      <td>VT</td>\n      <td>2020-03-30</td>\n    </tr>\n    <tr>\n      <th>1118015</th>\n      <td>A-3608437</td>\n      <td>3</td>\n      <td>At Lewis St - Overturned vehicle. Left lane bl...</td>\n      <td>Indianapolis</td>\n      <td>IN</td>\n      <td>2020-03-31</td>\n    </tr>\n  </tbody>\n</table>\n<p>366 rows × 6 columns</p>\n</div>"
     },
     "metadata": {},
     "execution_count": 13
    }
   ],
   "source": [
    "accident_df.drop_duplicates(subset=['date'], inplace=True)\n",
    "accident_df"
   ]
  },
  {
   "cell_type": "code",
   "execution_count": 14,
   "metadata": {},
   "outputs": [
    {
     "output_type": "execute_result",
     "data": {
      "text/plain": [
       "     EventId  Type  Severity     TimeZone AirportCode      City_x State_x  \\\n",
       "0     W-1722  Snow     Light  US/Mountain        K04V    Saguache      CO   \n",
       "1     W-1723  Snow     Light  US/Mountain        K04V    Saguache      CO   \n",
       "2     W-1729  Snow     Light  US/Mountain        K04V    Saguache      CO   \n",
       "3     W-1730  Snow     Light  US/Mountain        K04V    Saguache      CO   \n",
       "4     W-1731   Fog    Severe  US/Mountain        K04V    Saguache      CO   \n",
       "..       ...   ...       ...          ...         ...         ...     ...   \n",
       "361  W-33616   Fog    Severe   US/Eastern        KPSF  Pittsfield      MA   \n",
       "362  W-33619  Rain     Light   US/Eastern        KPSF  Pittsfield      MA   \n",
       "363  W-33623  Snow     Light   US/Eastern        KPSF  Pittsfield      MA   \n",
       "364  W-41187  Rain  Moderate   US/Eastern        KNBT       Davis      NC   \n",
       "365  W-73577   Fog    Severe   US/Pacific        KSPB   Scappoose      OR   \n",
       "\n",
       "           date        ID  Accident_Severity  \\\n",
       "0    2020-01-01  A-978027                  2   \n",
       "1    2020-01-02  A-978375                  2   \n",
       "2    2020-01-10  A-886644                  1   \n",
       "3    2020-01-12  A-890815                  3   \n",
       "4    2020-01-17  A-899234                  3   \n",
       "..          ...       ...                ...   \n",
       "361  2020-10-31  A-590648                  3   \n",
       "362  2020-11-02  A-586965                  3   \n",
       "363  2020-11-03  A-585135                  4   \n",
       "364  2020-02-21  A-964335                  2   \n",
       "365  2020-11-04  A-583642                  4   \n",
       "\n",
       "                                           Description    City_y State_y  \n",
       "0    Accident on I-90 Westbound between Exit 48 NY-...   Buffalo      NY  \n",
       "1               Accident on Oak Ridge Rd at Tiner Ave.   Orlando      FL  \n",
       "2           Accident on Silverton Rd at Stapleton Ave.     Brick      NJ  \n",
       "3    Left lane blocked and left hand shoulder block...   Detroit      MI  \n",
       "4    Right lane blocked due to accident on I-278 Br...  Brooklyn      NY  \n",
       "..                                                 ...       ...     ...  \n",
       "361  Left lane blocked due to accident on I-5 South...   Olympia      WA  \n",
       "362  Entry ramp to I-77 Southbound from St Michaels...     Akron      OH  \n",
       "363  Main roadway closed due to accident on I-94 Ea...    Climax      MI  \n",
       "364  Right lane blocked due to accident on I-90 Wes...   Buffalo      NY  \n",
       "365  Three lanes blocked due to accident on I-40 We...    Graham      NC  \n",
       "\n",
       "[366 rows x 13 columns]"
      ],
      "text/html": "<div>\n<style scoped>\n    .dataframe tbody tr th:only-of-type {\n        vertical-align: middle;\n    }\n\n    .dataframe tbody tr th {\n        vertical-align: top;\n    }\n\n    .dataframe thead th {\n        text-align: right;\n    }\n</style>\n<table border=\"1\" class=\"dataframe\">\n  <thead>\n    <tr style=\"text-align: right;\">\n      <th></th>\n      <th>EventId</th>\n      <th>Type</th>\n      <th>Severity</th>\n      <th>TimeZone</th>\n      <th>AirportCode</th>\n      <th>City_x</th>\n      <th>State_x</th>\n      <th>date</th>\n      <th>ID</th>\n      <th>Accident_Severity</th>\n      <th>Description</th>\n      <th>City_y</th>\n      <th>State_y</th>\n    </tr>\n  </thead>\n  <tbody>\n    <tr>\n      <th>0</th>\n      <td>W-1722</td>\n      <td>Snow</td>\n      <td>Light</td>\n      <td>US/Mountain</td>\n      <td>K04V</td>\n      <td>Saguache</td>\n      <td>CO</td>\n      <td>2020-01-01</td>\n      <td>A-978027</td>\n      <td>2</td>\n      <td>Accident on I-90 Westbound between Exit 48 NY-...</td>\n      <td>Buffalo</td>\n      <td>NY</td>\n    </tr>\n    <tr>\n      <th>1</th>\n      <td>W-1723</td>\n      <td>Snow</td>\n      <td>Light</td>\n      <td>US/Mountain</td>\n      <td>K04V</td>\n      <td>Saguache</td>\n      <td>CO</td>\n      <td>2020-01-02</td>\n      <td>A-978375</td>\n      <td>2</td>\n      <td>Accident on Oak Ridge Rd at Tiner Ave.</td>\n      <td>Orlando</td>\n      <td>FL</td>\n    </tr>\n    <tr>\n      <th>2</th>\n      <td>W-1729</td>\n      <td>Snow</td>\n      <td>Light</td>\n      <td>US/Mountain</td>\n      <td>K04V</td>\n      <td>Saguache</td>\n      <td>CO</td>\n      <td>2020-01-10</td>\n      <td>A-886644</td>\n      <td>1</td>\n      <td>Accident on Silverton Rd at Stapleton Ave.</td>\n      <td>Brick</td>\n      <td>NJ</td>\n    </tr>\n    <tr>\n      <th>3</th>\n      <td>W-1730</td>\n      <td>Snow</td>\n      <td>Light</td>\n      <td>US/Mountain</td>\n      <td>K04V</td>\n      <td>Saguache</td>\n      <td>CO</td>\n      <td>2020-01-12</td>\n      <td>A-890815</td>\n      <td>3</td>\n      <td>Left lane blocked and left hand shoulder block...</td>\n      <td>Detroit</td>\n      <td>MI</td>\n    </tr>\n    <tr>\n      <th>4</th>\n      <td>W-1731</td>\n      <td>Fog</td>\n      <td>Severe</td>\n      <td>US/Mountain</td>\n      <td>K04V</td>\n      <td>Saguache</td>\n      <td>CO</td>\n      <td>2020-01-17</td>\n      <td>A-899234</td>\n      <td>3</td>\n      <td>Right lane blocked due to accident on I-278 Br...</td>\n      <td>Brooklyn</td>\n      <td>NY</td>\n    </tr>\n    <tr>\n      <th>...</th>\n      <td>...</td>\n      <td>...</td>\n      <td>...</td>\n      <td>...</td>\n      <td>...</td>\n      <td>...</td>\n      <td>...</td>\n      <td>...</td>\n      <td>...</td>\n      <td>...</td>\n      <td>...</td>\n      <td>...</td>\n      <td>...</td>\n    </tr>\n    <tr>\n      <th>361</th>\n      <td>W-33616</td>\n      <td>Fog</td>\n      <td>Severe</td>\n      <td>US/Eastern</td>\n      <td>KPSF</td>\n      <td>Pittsfield</td>\n      <td>MA</td>\n      <td>2020-10-31</td>\n      <td>A-590648</td>\n      <td>3</td>\n      <td>Left lane blocked due to accident on I-5 South...</td>\n      <td>Olympia</td>\n      <td>WA</td>\n    </tr>\n    <tr>\n      <th>362</th>\n      <td>W-33619</td>\n      <td>Rain</td>\n      <td>Light</td>\n      <td>US/Eastern</td>\n      <td>KPSF</td>\n      <td>Pittsfield</td>\n      <td>MA</td>\n      <td>2020-11-02</td>\n      <td>A-586965</td>\n      <td>3</td>\n      <td>Entry ramp to I-77 Southbound from St Michaels...</td>\n      <td>Akron</td>\n      <td>OH</td>\n    </tr>\n    <tr>\n      <th>363</th>\n      <td>W-33623</td>\n      <td>Snow</td>\n      <td>Light</td>\n      <td>US/Eastern</td>\n      <td>KPSF</td>\n      <td>Pittsfield</td>\n      <td>MA</td>\n      <td>2020-11-03</td>\n      <td>A-585135</td>\n      <td>4</td>\n      <td>Main roadway closed due to accident on I-94 Ea...</td>\n      <td>Climax</td>\n      <td>MI</td>\n    </tr>\n    <tr>\n      <th>364</th>\n      <td>W-41187</td>\n      <td>Rain</td>\n      <td>Moderate</td>\n      <td>US/Eastern</td>\n      <td>KNBT</td>\n      <td>Davis</td>\n      <td>NC</td>\n      <td>2020-02-21</td>\n      <td>A-964335</td>\n      <td>2</td>\n      <td>Right lane blocked due to accident on I-90 Wes...</td>\n      <td>Buffalo</td>\n      <td>NY</td>\n    </tr>\n    <tr>\n      <th>365</th>\n      <td>W-73577</td>\n      <td>Fog</td>\n      <td>Severe</td>\n      <td>US/Pacific</td>\n      <td>KSPB</td>\n      <td>Scappoose</td>\n      <td>OR</td>\n      <td>2020-11-04</td>\n      <td>A-583642</td>\n      <td>4</td>\n      <td>Three lanes blocked due to accident on I-40 We...</td>\n      <td>Graham</td>\n      <td>NC</td>\n    </tr>\n  </tbody>\n</table>\n<p>366 rows × 13 columns</p>\n</div>"
     },
     "metadata": {},
     "execution_count": 14
    }
   ],
   "source": [
    "#DataFrame.merge(right, how='inner', on=None\n",
    "combined_df = weather_df.merge(accident_df,how='outer', on = 'date')\n",
    "combined_df"
   ]
  },
  {
   "cell_type": "code",
   "execution_count": 15,
   "metadata": {},
   "outputs": [],
   "source": [
    "accident_df.to_csv('resources/accident_df_final.csv')\n",
    "weather_df.to_csv('resources/weather_df_final.csv')\n",
    "combined_df.to_csv('resources/combined_df_final.csv')"
   ]
  },
  {
   "cell_type": "code",
   "execution_count": null,
   "metadata": {},
   "outputs": [],
   "source": []
  }
 ],
 "metadata": {
  "kernelspec": {
   "name": "python3",
   "display_name": "Python 3.6.10 64-bit ('PythonData': conda)",
   "metadata": {
    "interpreter": {
     "hash": "9093931be169533ad0f0dd76f55650949bcb45b2ed14d0b34b011d6ae005ebd8"
    }
   }
  },
  "language_info": {
   "codemirror_mode": {
    "name": "ipython",
    "version": 3
   },
   "file_extension": ".py",
   "mimetype": "text/x-python",
   "name": "python",
   "nbconvert_exporter": "python",
   "pygments_lexer": "ipython3",
   "version": "3.6.10-final"
  }
 },
 "nbformat": 4,
 "nbformat_minor": 4
}